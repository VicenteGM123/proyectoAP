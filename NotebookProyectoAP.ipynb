{
  "cells": [
    {
      "cell_type": "markdown",
      "metadata": {
        "id": "AHoDYYss1MjC"
      },
      "source": [
        "# Notebook Proyecto Aprendizaje Profundo\n",
        "\n",
        "| Nombre | N° Alumno |\n",
        "| :---: | :---: |\n",
        "| Vicente García Munizaga | 19637225 |\n",
        "| Alfredo Medina Klapp | 19642865 |\n",
        "| Daniel Sebastián Gaete | 19202806 |"
      ]
    },
    {
      "cell_type": "markdown",
      "metadata": {
        "id": "xfivRfVo1II5"
      },
      "source": [
        "# Índice\n",
        "0. [_Setup_ y librerías](#setup)\n",
        "1. [Procesamiento y análisis de datos](#parte1)"
      ]
    },
    {
      "cell_type": "markdown",
      "metadata": {
        "id": "RQ3og-Xc3r5j"
      },
      "source": [
        "#0. _Setup_ y librerías <a name=\"setup\"></a>"
      ]
    },
    {
      "cell_type": "code",
      "execution_count": 18,
      "metadata": {
        "id": "Ya_5kqhAvoE2"
      },
      "outputs": [],
      "source": [
        "import torch\n",
        "import torch.nn as nn\n",
        "from torch.nn import functional as F\n",
        "from torchvision.datasets import ImageFolder\n",
        "from torch.utils.data import DataLoader\n",
        "import numpy as np\n",
        "import matplotlib.pyplot as plt\n",
        "import math\n",
        "import plotly.express as px\n",
        "from collections import Counter\n",
        "from os import listdir\n",
        "from PIL import Image\n",
        "from os.path import join\n",
        "from torchvision.transforms import Compose, ToTensor, Normalize, Resize, RandomRotation\n",
        "import torch.optim as optim\n",
        "from tqdm import tqdm\n",
        "import copy\n",
        "import random"
      ]
    },
    {
      "cell_type": "code",
      "execution_count": 19,
      "metadata": {
        "colab": {
          "base_uri": "https://localhost:8080/"
        },
        "id": "V92XRb823q-2",
        "outputId": "b4977428-77d3-4ad7-b224-52fb9e8e85ee"
      },
      "outputs": [
        {
          "output_type": "stream",
          "name": "stdout",
          "text": [
            "device:  cpu\n"
          ]
        }
      ],
      "source": [
        "from IPython.display import clear_output\n",
        "\n",
        "!ln -sf /opt/bin/nvidia-smi /usr/bin/nvidia-smi\n",
        "!pip install gputil\n",
        "!pip install psutil\n",
        "!pip install humanize\n",
        "\n",
        "clear_output()\n",
        "\n",
        "import os, psutil, humanize\n",
        "import GPUtil as GPU\n",
        "\n",
        "GPUs = GPU.getGPUs()\n",
        "if len(GPUs) > 0:\n",
        "  gpu = GPUs[0]                  # Only one GPU on Colab and isn’t guaranteed\n",
        "\n",
        "  def printm():\n",
        "    process = psutil.Process(os.getpid())\n",
        "    print(\"Gen RAM Free: \" + humanize.naturalsize(  \\\n",
        "      psutil.virtual_memory().available ), \" I Proc size: \" + \\\n",
        "      humanize.naturalsize( process.memory_info().rss))\n",
        "\n",
        "    print(\"GPU RAM Free: {0:.0f}MB | Used: {1:.0f}MB | Util {2:3.0f}% | \\\n",
        "      Total {3:.0f}MB\".format(gpu.memoryFree, gpu.memoryUsed, \\\n",
        "      gpu.memoryUtil*100, gpu.memoryTotal))\n",
        "\n",
        "  printm()\n",
        "device = \"cuda\" if torch.cuda.is_available() else \"cpu\"\n",
        "print(\"device: \", device)"
      ]
    },
    {
      "cell_type": "markdown",
      "metadata": {
        "id": "nYkklUVStIEq"
      },
      "source": [
        "#1. Procesamiento y análisis de datos <a name=\"parte1\"></a>"
      ]
    },
    {
      "cell_type": "code",
      "source": [
        "!wget https://github.com/brendenlake/omniglot/raw/master/python/images_evaluation.zip\n",
        "!wget https://github.com/brendenlake/omniglot/raw/master/python/images_background.zip\n",
        "!unzip -qq images_background.zip\n",
        "!unzip -qq images_evaluation.zip"
      ],
      "metadata": {
        "colab": {
          "base_uri": "https://localhost:8080/"
        },
        "id": "xXsckID8niwm",
        "outputId": "17008f3e-814c-4649-b9c2-dc0d0309e35e"
      },
      "execution_count": null,
      "outputs": [
        {
          "output_type": "stream",
          "name": "stdout",
          "text": [
            "--2023-07-08 20:08:05--  https://github.com/brendenlake/omniglot/raw/master/python/images_evaluation.zip\n",
            "Resolving github.com (github.com)... 20.205.243.166\n",
            "Connecting to github.com (github.com)|20.205.243.166|:443... connected.\n",
            "HTTP request sent, awaiting response... 302 Found\n",
            "Location: https://raw.githubusercontent.com/brendenlake/omniglot/master/python/images_evaluation.zip [following]\n",
            "--2023-07-08 20:08:05--  https://raw.githubusercontent.com/brendenlake/omniglot/master/python/images_evaluation.zip\n",
            "Resolving raw.githubusercontent.com (raw.githubusercontent.com)... 185.199.108.133, 185.199.109.133, 185.199.110.133, ...\n",
            "Connecting to raw.githubusercontent.com (raw.githubusercontent.com)|185.199.108.133|:443... connected.\n",
            "HTTP request sent, awaiting response... 200 OK\n",
            "Length: 6462886 (6.2M) [application/zip]\n",
            "Saving to: ‘images_evaluation.zip.1’\n",
            "\n",
            "images_evaluation.z 100%[===================>]   6.16M  --.-KB/s    in 0.03s   \n",
            "\n",
            "2023-07-08 20:08:06 (232 MB/s) - ‘images_evaluation.zip.1’ saved [6462886/6462886]\n",
            "\n",
            "--2023-07-08 20:08:06--  https://github.com/brendenlake/omniglot/raw/master/python/images_background.zip\n",
            "Resolving github.com (github.com)... 20.205.243.166\n",
            "Connecting to github.com (github.com)|20.205.243.166|:443... connected.\n",
            "HTTP request sent, awaiting response... 302 Found\n",
            "Location: https://raw.githubusercontent.com/brendenlake/omniglot/master/python/images_background.zip [following]\n",
            "--2023-07-08 20:08:06--  https://raw.githubusercontent.com/brendenlake/omniglot/master/python/images_background.zip\n",
            "Resolving raw.githubusercontent.com (raw.githubusercontent.com)... 185.199.110.133, 185.199.111.133, 185.199.109.133, ...\n",
            "Connecting to raw.githubusercontent.com (raw.githubusercontent.com)|185.199.110.133|:443... connected.\n",
            "HTTP request sent, awaiting response... 200 OK\n",
            "Length: 9464212 (9.0M) [application/zip]\n",
            "Saving to: ‘images_background.zip.1’\n",
            "\n",
            "images_background.z 100%[===================>]   9.03M  --.-KB/s    in 0.03s   \n",
            "\n",
            "2023-07-08 20:08:07 (331 MB/s) - ‘images_background.zip.1’ saved [9464212/9464212]\n",
            "\n",
            "replace images_background/Alphabet_of_the_Magi/character01/0709_01.png? [y]es, [n]o, [A]ll, [N]one, [r]ename: replace images_evaluation/Angelic/character01/0965_01.png? [y]es, [n]o, [A]ll, [N]one, [r]ename: "
          ]
        }
      ]
    },
    {
      "cell_type": "code",
      "source": [
        "TRAIN_IMAGES_DIR_BASE = \"images_background\"\n",
        "EVALUATION_IMAGES_DIR_BASE = \"images_evaluation\""
      ],
      "metadata": {
        "id": "Zu0koi7lquXv"
      },
      "execution_count": null,
      "outputs": []
    },
    {
      "cell_type": "code",
      "source": [
        "## Leemos todas las imágenes de un alfabeto\n",
        "def get_alphabet_images_path(base_dir, alphabet_dir_name):\n",
        "    path_to_alphabet_dir = base_dir + \"/\" + alphabet_dir_name\n",
        "    characters = os.listdir(path_to_alphabet_dir)\n",
        "    images_path = []\n",
        "    for character in characters:\n",
        "      images_in_dir = os.listdir(path_to_alphabet_dir + \"/\" + character + \"/\")\n",
        "      images_path += [path_to_alphabet_dir + \"/\" + character + '/' + image_path for image_path in images_in_dir]\n",
        "    return np.array(images_path)"
      ],
      "metadata": {
        "id": "Ji5-E2GGpzRM"
      },
      "execution_count": null,
      "outputs": []
    },
    {
      "cell_type": "code",
      "execution_count": null,
      "metadata": {
        "id": "_wy8aGt5wRo3"
      },
      "outputs": [],
      "source": [
        "## Mostramos las imágenes del input (la cantidad de imágenes\n",
        "## debe ser un cuadrado perfecto para que quede cuadriculado)\n",
        "def show_images(images_paths):\n",
        "  images_per_row = int(math.sqrt(len(images_paths)))\n",
        "  fig, axs = plt.subplots(images_per_row, images_per_row, figsize=(10, 10))\n",
        "  for i, image_path in enumerate(images_paths):\n",
        "      image = plt.imread(image_path)\n",
        "      row = i // images_per_row\n",
        "      col = i % images_per_row\n",
        "      axs[row, col].imshow(image)\n",
        "      axs[row, col].axis('off')\n",
        "\n",
        "  plt.tight_layout()\n",
        "  plt.show()"
      ]
    },
    {
      "cell_type": "code",
      "source": [
        "## Mostramos 9 imágenes random del dataset de entrenamiento\n",
        "images =  np.random.choice(get_alphabet_images_path(TRAIN_IMAGES_DIR_BASE, \"Futurama\"), size=9, replace=False)\n",
        "show_images(images)"
      ],
      "metadata": {
        "colab": {
          "base_uri": "https://localhost:8080/",
          "height": 1000
        },
        "id": "VtqGB64VpuKV",
        "outputId": "3bc6195e-07d4-4569-efec-a7ed35d02cd2"
      },
      "execution_count": null,
      "outputs": [
        {
          "output_type": "display_data",
          "data": {
            "text/plain": [
              "<Figure size 1000x1000 with 9 Axes>"
            ],
            "image/png": "[encoded data removed]"
          },
          "metadata": {}
        }
      ]
    },
    {
      "cell_type": "code",
      "source": [
        "dataset = ImageFolder('/content/images_background')"
      ],
      "metadata": {
        "id": "iN3vffCIOt0U"
      },
      "execution_count": null,
      "outputs": []
    },
    {
      "cell_type": "code",
      "source": [
        "dataset_distribution = dict(Counter(dataset.targets))\n",
        "dataset_distribution_for_plotly = {\"Alfabeto (índice)\": list(dataset_distribution.keys()), \"Número de instancias (imágenes)\": list(dataset_distribution.values())}\n",
        "fig = px.bar(dataset_distribution_for_plotly, x=\"Alfabeto (índice)\", y=\"Número de instancias (imágenes)\")\n",
        "fig.show()"
      ],
      "metadata": {
        "colab": {
          "base_uri": "https://localhost:8080/",
          "height": 542
        },
        "id": "bnaeAzrWO97f",
        "outputId": "20cc1074-e506-442e-c0ab-2780c758ad27"
      },
      "execution_count": null,
      "outputs": [
        {
          "output_type": "display_data",
          "data": {
            "text/html": [
              "<html>\n",
              "<head><meta charset=\"utf-8\" /></head>\n",
              "<body>\n",
              "    <div>            <script src=\"https://cdnjs.cloudflare.com/ajax/libs/mathjax/2.7.5/MathJax.js?config=TeX-AMS-MML_SVG\"></script><script type=\"text/javascript\">if (window.MathJax && window.MathJax.Hub && window.MathJax.Hub.Config) {window.MathJax.Hub.Config({SVG: {font: \"STIX-Web\"}});}</script>                <script type=\"text/javascript\">window.PlotlyConfig = {MathJaxConfig: 'local'};</script>\n",
              "        <script src=\"https://cdn.plot.ly/plotly-2.18.2.min.js\"></script>                <div id=\"91bd5a5d-92a6-4927-bde7-543882016d8d\" class=\"plotly-graph-div\" style=\"height:525px; width:100%;\"></div>            <script type=\"text/javascript\">                                    window.PLOTLYENV=window.PLOTLYENV || {};                                    if (document.getElementById(\"91bd5a5d-92a6-4927-bde7-543882016d8d\")) {                    Plotly.newPlot(                        \"91bd5a5d-92a6-4927-bde7-543882016d8d\",                        [{\"alignmentgroup\":\"True\",\"hovertemplate\":\"Alfabeto (\\u00edndice)=%{x}<br>N\\u00famero de instancias (im\\u00e1genes)=%{y}<extra></extra>\",\"legendgroup\":\"\",\"marker\":{\"color\":\"#636efa\",\"pattern\":{\"shape\":\"\"}},\"name\":\"\",\"offsetgroup\":\"\",\"orientation\":\"v\",\"showlegend\":false,\"textposition\":\"auto\",\"x\":[0,1,2,3,4,5,6,7,8,9,10,11,12,13,14,15,16,17,18,19,20,21,22,23,24,25,26,27,28,29],\"xaxis\":\"x\",\"y\":[400,580,520,820,800,480,920,280,520,680,660,440,520,860,480,960,440,320,1040,940,800,520,800,820,660,280,840,460,340,1100],\"yaxis\":\"y\",\"type\":\"bar\"}],                        {\"template\":{\"data\":{\"histogram2dcontour\":[{\"type\":\"histogram2dcontour\",\"colorbar\":{\"outlinewidth\":0,\"ticks\":\"\"},\"colorscale\":[[0.0,\"#0d0887\"],[0.1111111111111111,\"#46039f\"],[0.2222222222222222,\"#7201a8\"],[0.3333333333333333,\"#9c179e\"],[0.4444444444444444,\"#bd3786\"],[0.5555555555555556,\"#d8576b\"],[0.6666666666666666,\"#ed7953\"],[0.7777777777777778,\"#fb9f3a\"],[0.8888888888888888,\"#fdca26\"],[1.0,\"#f0f921\"]]}],\"choropleth\":[{\"type\":\"choropleth\",\"colorbar\":{\"outlinewidth\":0,\"ticks\":\"\"}}],\"histogram2d\":[{\"type\":\"histogram2d\",\"colorbar\":{\"outlinewidth\":0,\"ticks\":\"\"},\"colorscale\":[[0.0,\"#0d0887\"],[0.1111111111111111,\"#46039f\"],[0.2222222222222222,\"#7201a8\"],[0.3333333333333333,\"#9c179e\"],[0.4444444444444444,\"#bd3786\"],[0.5555555555555556,\"#d8576b\"],[0.6666666666666666,\"#ed7953\"],[0.7777777777777778,\"#fb9f3a\"],[0.8888888888888888,\"#fdca26\"],[1.0,\"#f0f921\"]]}],\"heatmap\":[{\"type\":\"heatmap\",\"colorbar\":{\"outlinewidth\":0,\"ticks\":\"\"},\"colorscale\":[[0.0,\"#0d0887\"],[0.1111111111111111,\"#46039f\"],[0.2222222222222222,\"#7201a8\"],[0.3333333333333333,\"#9c179e\"],[0.4444444444444444,\"#bd3786\"],[0.5555555555555556,\"#d8576b\"],[0.6666666666666666,\"#ed7953\"],[0.7777777777777778,\"#fb9f3a\"],[0.8888888888888888,\"#fdca26\"],[1.0,\"#f0f921\"]]}],\"heatmapgl\":[{\"type\":\"heatmapgl\",\"colorbar\":{\"outlinewidth\":0,\"ticks\":\"\"},\"colorscale\":[[0.0,\"#0d0887\"],[0.1111111111111111,\"#46039f\"],[0.2222222222222222,\"#7201a8\"],[0.3333333333333333,\"#9c179e\"],[0.4444444444444444,\"#bd3786\"],[0.5555555555555556,\"#d8576b\"],[0.6666666666666666,\"#ed7953\"],[0.7777777777777778,\"#fb9f3a\"],[0.8888888888888888,\"#fdca26\"],[1.0,\"#f0f921\"]]}],\"contourcarpet\":[{\"type\":\"contourcarpet\",\"colorbar\":{\"outlinewidth\":0,\"ticks\":\"\"}}],\"contour\":[{\"type\":\"contour\",\"colorbar\":{\"outlinewidth\":0,\"ticks\":\"\"},\"colorscale\":[[0.0,\"#0d0887\"],[0.1111111111111111,\"#46039f\"],[0.2222222222222222,\"#7201a8\"],[0.3333333333333333,\"#9c179e\"],[0.4444444444444444,\"#bd3786\"],[0.5555555555555556,\"#d8576b\"],[0.6666666666666666,\"#ed7953\"],[0.7777777777777778,\"#fb9f3a\"],[0.8888888888888888,\"#fdca26\"],[1.0,\"#f0f921\"]]}],\"surface\":[{\"type\":\"surface\",\"colorbar\":{\"outlinewidth\":0,\"ticks\":\"\"},\"colorscale\":[[0.0,\"#0d0887\"],[0.1111111111111111,\"#46039f\"],[0.2222222222222222,\"#7201a8\"],[0.3333333333333333,\"#9c179e\"],[0.4444444444444444,\"#bd3786\"],[0.5555555555555556,\"#d8576b\"],[0.6666666666666666,\"#ed7953\"],[0.7777777777777778,\"#fb9f3a\"],[0.8888888888888888,\"#fdca26\"],[1.0,\"#f0f921\"]]}],\"mesh3d\":[{\"type\":\"mesh3d\",\"colorbar\":{\"outlinewidth\":0,\"ticks\":\"\"}}],\"scatter\":[{\"fillpattern\":{\"fillmode\":\"overlay\",\"size\":10,\"solidity\":0.2},\"type\":\"scatter\"}],\"parcoords\":[{\"type\":\"parcoords\",\"line\":{\"colorbar\":{\"outlinewidth\":0,\"ticks\":\"\"}}}],\"scatterpolargl\":[{\"type\":\"scatterpolargl\",\"marker\":{\"colorbar\":{\"outlinewidth\":0,\"ticks\":\"\"}}}],\"bar\":[{\"error_x\":{\"color\":\"#2a3f5f\"},\"error_y\":{\"color\":\"#2a3f5f\"},\"marker\":{\"line\":{\"color\":\"#E5ECF6\",\"width\":0.5},\"pattern\":{\"fillmode\":\"overlay\",\"size\":10,\"solidity\":0.2}},\"type\":\"bar\"}],\"scattergeo\":[{\"type\":\"scattergeo\",\"marker\":{\"colorbar\":{\"outlinewidth\":0,\"ticks\":\"\"}}}],\"scatterpolar\":[{\"type\":\"scatterpolar\",\"marker\":{\"colorbar\":{\"outlinewidth\":0,\"ticks\":\"\"}}}],\"histogram\":[{\"marker\":{\"pattern\":{\"fillmode\":\"overlay\",\"size\":10,\"solidity\":0.2}},\"type\":\"histogram\"}],\"scattergl\":[{\"type\":\"scattergl\",\"marker\":{\"colorbar\":{\"outlinewidth\":0,\"ticks\":\"\"}}}],\"scatter3d\":[{\"type\":\"scatter3d\",\"line\":{\"colorbar\":{\"outlinewidth\":0,\"ticks\":\"\"}},\"marker\":{\"colorbar\":{\"outlinewidth\":0,\"ticks\":\"\"}}}],\"scattermapbox\":[{\"type\":\"scattermapbox\",\"marker\":{\"colorbar\":{\"outlinewidth\":0,\"ticks\":\"\"}}}],\"scatterternary\":[{\"type\":\"scatterternary\",\"marker\":{\"colorbar\":{\"outlinewidth\":0,\"ticks\":\"\"}}}],\"scattercarpet\":[{\"type\":\"scattercarpet\",\"marker\":{\"colorbar\":{\"outlinewidth\":0,\"ticks\":\"\"}}}],\"carpet\":[{\"aaxis\":{\"endlinecolor\":\"#2a3f5f\",\"gridcolor\":\"white\",\"linecolor\":\"white\",\"minorgridcolor\":\"white\",\"startlinecolor\":\"#2a3f5f\"},\"baxis\":{\"endlinecolor\":\"#2a3f5f\",\"gridcolor\":\"white\",\"linecolor\":\"white\",\"minorgridcolor\":\"white\",\"startlinecolor\":\"#2a3f5f\"},\"type\":\"carpet\"}],\"table\":[{\"cells\":{\"fill\":{\"color\":\"#EBF0F8\"},\"line\":{\"color\":\"white\"}},\"header\":{\"fill\":{\"color\":\"#C8D4E3\"},\"line\":{\"color\":\"white\"}},\"type\":\"table\"}],\"barpolar\":[{\"marker\":{\"line\":{\"color\":\"#E5ECF6\",\"width\":0.5},\"pattern\":{\"fillmode\":\"overlay\",\"size\":10,\"solidity\":0.2}},\"type\":\"barpolar\"}],\"pie\":[{\"automargin\":true,\"type\":\"pie\"}]},\"layout\":{\"autotypenumbers\":\"strict\",\"colorway\":[\"#636efa\",\"#EF553B\",\"#00cc96\",\"#ab63fa\",\"#FFA15A\",\"#19d3f3\",\"#FF6692\",\"#B6E880\",\"#FF97FF\",\"#FECB52\"],\"font\":{\"color\":\"#2a3f5f\"},\"hovermode\":\"closest\",\"hoverlabel\":{\"align\":\"left\"},\"paper_bgcolor\":\"white\",\"plot_bgcolor\":\"#E5ECF6\",\"polar\":{\"bgcolor\":\"#E5ECF6\",\"angularaxis\":{\"gridcolor\":\"white\",\"linecolor\":\"white\",\"ticks\":\"\"},\"radialaxis\":{\"gridcolor\":\"white\",\"linecolor\":\"white\",\"ticks\":\"\"}},\"ternary\":{\"bgcolor\":\"#E5ECF6\",\"aaxis\":{\"gridcolor\":\"white\",\"linecolor\":\"white\",\"ticks\":\"\"},\"baxis\":{\"gridcolor\":\"white\",\"linecolor\":\"white\",\"ticks\":\"\"},\"caxis\":{\"gridcolor\":\"white\",\"linecolor\":\"white\",\"ticks\":\"\"}},\"coloraxis\":{\"colorbar\":{\"outlinewidth\":0,\"ticks\":\"\"}},\"colorscale\":{\"sequential\":[[0.0,\"#0d0887\"],[0.1111111111111111,\"#46039f\"],[0.2222222222222222,\"#7201a8\"],[0.3333333333333333,\"#9c179e\"],[0.4444444444444444,\"#bd3786\"],[0.5555555555555556,\"#d8576b\"],[0.6666666666666666,\"#ed7953\"],[0.7777777777777778,\"#fb9f3a\"],[0.8888888888888888,\"#fdca26\"],[1.0,\"#f0f921\"]],\"sequentialminus\":[[0.0,\"#0d0887\"],[0.1111111111111111,\"#46039f\"],[0.2222222222222222,\"#7201a8\"],[0.3333333333333333,\"#9c179e\"],[0.4444444444444444,\"#bd3786\"],[0.5555555555555556,\"#d8576b\"],[0.6666666666666666,\"#ed7953\"],[0.7777777777777778,\"#fb9f3a\"],[0.8888888888888888,\"#fdca26\"],[1.0,\"#f0f921\"]],\"diverging\":[[0,\"#8e0152\"],[0.1,\"#c51b7d\"],[0.2,\"#de77ae\"],[0.3,\"#f1b6da\"],[0.4,\"#fde0ef\"],[0.5,\"#f7f7f7\"],[0.6,\"#e6f5d0\"],[0.7,\"#b8e186\"],[0.8,\"#7fbc41\"],[0.9,\"#4d9221\"],[1,\"#276419\"]]},\"xaxis\":{\"gridcolor\":\"white\",\"linecolor\":\"white\",\"ticks\":\"\",\"title\":{\"standoff\":15},\"zerolinecolor\":\"white\",\"automargin\":true,\"zerolinewidth\":2},\"yaxis\":{\"gridcolor\":\"white\",\"linecolor\":\"white\",\"ticks\":\"\",\"title\":{\"standoff\":15},\"zerolinecolor\":\"white\",\"automargin\":true,\"zerolinewidth\":2},\"scene\":{\"xaxis\":{\"backgroundcolor\":\"#E5ECF6\",\"gridcolor\":\"white\",\"linecolor\":\"white\",\"showbackground\":true,\"ticks\":\"\",\"zerolinecolor\":\"white\",\"gridwidth\":2},\"yaxis\":{\"backgroundcolor\":\"#E5ECF6\",\"gridcolor\":\"white\",\"linecolor\":\"white\",\"showbackground\":true,\"ticks\":\"\",\"zerolinecolor\":\"white\",\"gridwidth\":2},\"zaxis\":{\"backgroundcolor\":\"#E5ECF6\",\"gridcolor\":\"white\",\"linecolor\":\"white\",\"showbackground\":true,\"ticks\":\"\",\"zerolinecolor\":\"white\",\"gridwidth\":2}},\"shapedefaults\":{\"line\":{\"color\":\"#2a3f5f\"}},\"annotationdefaults\":{\"arrowcolor\":\"#2a3f5f\",\"arrowhead\":0,\"arrowwidth\":1},\"geo\":{\"bgcolor\":\"white\",\"landcolor\":\"#E5ECF6\",\"subunitcolor\":\"white\",\"showland\":true,\"showlakes\":true,\"lakecolor\":\"white\"},\"title\":{\"x\":0.05},\"mapbox\":{\"style\":\"light\"}}},\"xaxis\":{\"anchor\":\"y\",\"domain\":[0.0,1.0],\"title\":{\"text\":\"Alfabeto (\\u00edndice)\"}},\"yaxis\":{\"anchor\":\"x\",\"domain\":[0.0,1.0],\"title\":{\"text\":\"N\\u00famero de instancias (im\\u00e1genes)\"}},\"legend\":{\"tracegroupgap\":0},\"margin\":{\"t\":60},\"barmode\":\"relative\"},                        {\"responsive\": true}                    ).then(function(){\n",
              "                            \n",
              "var gd = document.getElementById('91bd5a5d-92a6-4927-bde7-543882016d8d');\n",
              "var x = new MutationObserver(function (mutations, observer) {{\n",
              "        var display = window.getComputedStyle(gd).display;\n",
              "        if (!display || display === 'none') {{\n",
              "            console.log([gd, 'removed!']);\n",
              "            Plotly.purge(gd);\n",
              "            observer.disconnect();\n",
              "        }}\n",
              "}});\n",
              "\n",
              "// Listen for the removal of the full notebook cells\n",
              "var notebookContainer = gd.closest('#notebook-container');\n",
              "if (notebookContainer) {{\n",
              "    x.observe(notebookContainer, {childList: true});\n",
              "}}\n",
              "\n",
              "// Listen for the clearing of the current output cell\n",
              "var outputEl = gd.closest('.output');\n",
              "if (outputEl) {{\n",
              "    x.observe(outputEl, {childList: true});\n",
              "}}\n",
              "\n",
              "                        })                };                            </script>        </div>\n",
              "</body>\n",
              "</html>"
            ]
          },
          "metadata": {}
        }
      ]
    },
    {
      "cell_type": "markdown",
      "source": [
        "Los alfabetos no están balanceados porque algunos tienen más caracteres que otros"
      ],
      "metadata": {
        "id": "Y0Ha2qjhPiAt"
      }
    },
    {
      "cell_type": "code",
      "source": [
        "class Characters(torch.utils.data.Dataset):\n",
        "    def __init__(self, root, transform=None, classes_in_train_last=None, start_range=0, range=0, test=False):\n",
        "        self.root = root\n",
        "        self.transform = transform\n",
        "        self.images = []          # Array de arrays de imagenes (por clase)\n",
        "        self.index_to_class = {}\n",
        "        self.classes_in_train_last = classes_in_train_last\n",
        "        self.start_range=start_range\n",
        "        self.range=range\n",
        "        self.test = test\n",
        "        self.images = self.build_indices()\n",
        "\n",
        "    def build_indices(self):\n",
        "        class_counter = 0 # Contador para guardar el índice de cada imagen\n",
        "        image_list = []\n",
        "        imgs_to_class = []\n",
        "        for alphabet_directory in listdir(self.root):\n",
        "          alphabet_dir = join(self.root, alphabet_directory)\n",
        "          for character_directory in listdir(alphabet_dir):\n",
        "            current_dir = join(alphabet_dir, character_directory)\n",
        "            if current_dir not in self.index_to_class:\n",
        "              self.index_to_class[current_dir] = class_counter\n",
        "              class_counter+=1\n",
        "            img_of_class = [join(current_dir, _file) for _file in listdir(current_dir)]\n",
        "            image_list.append(img_of_class)\n",
        "\n",
        "        if not self.classes_in_train_last:\n",
        "          counter = 0\n",
        "          for _class in image_list:\n",
        "            counter += len(_class)\n",
        "          self.classes_in_train_last = counter\n",
        "\n",
        "        return image_list\n",
        "\n",
        "    def get_image(self, archivo):\n",
        "        img = Image.open(archivo)\n",
        "        return img\n",
        "\n",
        "    def __getitem__(self, idx):\n",
        "        img_1 = None\n",
        "        img_2 = None\n",
        "        label = None\n",
        "        if self.test:\n",
        "          images = self.images[self.start_range:self.start_range+self.range]\n",
        "        else:\n",
        "          images = self.images[:self.start_range] + self.images[self.start_range+self.range:self.classes_in_train_last]\n",
        "\n",
        "        if idx % 2 == 0: # Misma clase\n",
        "            characters_of_random_class = random.sample(images, 1) # obtenemos las imagenes de alguna clase\n",
        "            random_imgs_of_class = random.sample(characters_of_random_class[0], 2)\n",
        "            img_1 = Image.open(random_imgs_of_class[0])\n",
        "            img_2 = Image.open(random_imgs_of_class[1])\n",
        "            label = 1.0\n",
        "        else: # Clases diferentes\n",
        "            characters_of_random_classes = random.sample(images, 2)\n",
        "            random_imgs_of_class_1 = random.sample(characters_of_random_classes[0], 1)\n",
        "            random_imgs_of_class_2 = random.sample(characters_of_random_classes[1], 1)\n",
        "            img_1 = Image.open(random_imgs_of_class_1[0])\n",
        "            img_2 = Image.open(random_imgs_of_class_2[0])\n",
        "            label = 0.0\n",
        "        if self.transform:\n",
        "\n",
        "            img_1 = self.transform(img_1.convert('RGB'))\n",
        "            img_2 = self.transform(img_2.convert('RGB'))\n",
        "        return img_1, img_2, torch.tensor(label, dtype=torch.float)\n",
        "\n",
        "    def __len__(self):\n",
        "        # counter = 0\n",
        "        # for _class in self.images:\n",
        "        #   counter += len(_class)\n",
        "        # return counter\n",
        "        return 64*30"
      ],
      "metadata": {
        "id": "m-VGX3_-PoK8"
      },
      "execution_count": null,
      "outputs": []
    },
    {
      "cell_type": "code",
      "source": [
        "from torchvision.models import resnet18"
      ],
      "metadata": {
        "id": "IH3uyJ36vikw"
      },
      "execution_count": null,
      "outputs": []
    },
    {
      "cell_type": "code",
      "source": [
        "class SiameseNet(nn.Module):\n",
        "    def __init__(self, pretrained=False):\n",
        "        super(SiameseNet, self).__init__()\n",
        "\n",
        "\n",
        "        self.cnn = resnet18(weights=pretrained)\n",
        "        self.fc_in_features = self.cnn.fc.in_features\n",
        "\n",
        "        # eliminamos la ultima capa fc\n",
        "        self.cnn.fc = nn.Identity()\n",
        "\n",
        "        self.fc = nn.Sequential(\n",
        "            nn.Linear(self.fc_in_features * 2, 256),\n",
        "            nn.ReLU(inplace=True),\n",
        "            nn.Linear(256, 1),\n",
        "        )\n",
        "\n",
        "        self.sigmoid = nn.Sigmoid()\n",
        "\n",
        "        self.cnn.apply(self.init_weights)\n",
        "        self.fc.apply(self.init_weights)\n",
        "\n",
        "    def init_weights(self, m):\n",
        "        if isinstance(m, nn.Linear):\n",
        "            torch.nn.init.xavier_uniform_(m.weight)\n",
        "            m.bias.data.fill_(0.01)\n",
        "\n",
        "    def forward_once(self, x):\n",
        "        output = self.cnn(x)\n",
        "        output = output.view(output.size()[0], -1)\n",
        "        return output\n",
        "\n",
        "    def forward(self, input1, input2):\n",
        "        embeddings1 = self.forward_once(input1)\n",
        "        embeddings2 = self.forward_once(input2)\n",
        "\n",
        "        output = torch.cat((embeddings1, embeddings2), 1)\n",
        "\n",
        "        output = self.fc(output)\n",
        "\n",
        "        output = self.sigmoid(output)\n",
        "\n",
        "        return output\n"
      ],
      "metadata": {
        "id": "AcJrMieSt1cC"
      },
      "execution_count": null,
      "outputs": []
    },
    {
      "cell_type": "code",
      "source": [
        "class LearningAnalyzer():\n",
        "    def __init__(self, root, hparams):\n",
        "        self.root = root\n",
        "        self.model_non_pretrained = SiameseNet(pretrained=False).to(device)\n",
        "        self.model_pretrained = SiameseNet(pretrained=True).to(device)\n",
        "        self.hparams = hparams\n",
        "        self.threshold = 0.7\n",
        "        self.ovrl_history = dict()\n",
        "\n",
        "\n",
        "    def train(self, model, train_loader, test_loader):\n",
        "      loss_fn = nn.BCELoss()\n",
        "      optimizer = optim.Adam(model.parameters(), lr=self.hparams[\"lr\"])\n",
        "      ovrl_history = {\n",
        "          'train': {'loss': [], 'acc': []},\n",
        "          'test': {'loss': [], 'acc': []},\n",
        "      }\n",
        "      n_epochs = self.hparams[\"n_epochs\"]\n",
        "      batch_size = self.hparams[\"batch_size\"]\n",
        "      for epoch in range(n_epochs):\n",
        "        model.train()\n",
        "        losses = []\n",
        "        cum_loss = 0.0\n",
        "        cum_acc = 0.0\n",
        "\n",
        "        with tqdm(train_loader, unit='batch', position=0, leave=True) as tepoch:\n",
        "          tepoch.set_description(f\"Epoch {epoch}/{n_epochs}\")\n",
        "          for batch_idx, (imgs1, imgs2, targets) in enumerate(tepoch, start=1):\n",
        "\n",
        "            optimizer.zero_grad()\n",
        "            imgs1 = imgs1.to(device)\n",
        "            imgs2 = imgs2.to(device)\n",
        "            targets = targets.to(device)\n",
        "\n",
        "\n",
        "            outputs = model(imgs1, imgs2).squeeze()\n",
        "            loss = loss_fn(outputs, targets)\n",
        "            loss.backward()\n",
        "            optimizer.step()\n",
        "\n",
        "            pred = torch.where(outputs > self.threshold, 1, 0)\n",
        "            cum_acc += pred.eq(targets.view_as(pred)).sum().item()\n",
        "\n",
        "            cum_loss += loss.item()\n",
        "            curr_loss = cum_loss / batch_idx\n",
        "            curr_acc = cum_acc / (batch_size * batch_idx)\n",
        "\n",
        "            losses.append(loss.item())\n",
        "\n",
        "            tepoch.set_postfix(Loss=curr_loss, Acc=curr_acc)\n",
        "\n",
        "            torch.cuda.empty_cache()\n",
        "\n",
        "          print()\n",
        "          print(f\"------ Test época {epoch} -------\")\n",
        "          test_acc, test_loss = self.test_model(model, test_loader)\n",
        "          epoch_loss = float(cum_loss)\n",
        "          epoch_acc = float(cum_acc / (batch_idx * batch_size))\n",
        "\n",
        "          # Guardamos el loss y accuracy para la epoca\n",
        "          ovrl_history['train']['loss'].append(epoch_loss)\n",
        "          ovrl_history['train']['acc'].append(epoch_acc)\n",
        "          ovrl_history['test']['loss'].append(test_loss)\n",
        "          ovrl_history['test']['acc'].append(test_acc)\n",
        "      return ovrl_history\n",
        "\n",
        "\n",
        "    def test_model(self, model, test_loader):\n",
        "      model.eval()\n",
        "      test_loss = 0\n",
        "      correct = 0\n",
        "\n",
        "      criterion = nn.BCELoss()\n",
        "\n",
        "      with torch.no_grad():\n",
        "          for (imgs1, imgs2, targets) in test_loader:\n",
        "              imgs1, imgs2, targets = imgs1.to(device), imgs2.to(device), targets.to(device)\n",
        "              outputs = model(imgs1, imgs2).squeeze()\n",
        "              test_loss += criterion(outputs, targets).sum().item()\n",
        "              pred = torch.where(outputs > self.threshold, 1, 0)\n",
        "              correct += pred.eq(targets.view_as(pred)).sum().item()\n",
        "\n",
        "      test_loss /= len(test_loader.dataset)\n",
        "      test_acc = 100. * correct / len(test_loader.dataset)\n",
        "\n",
        "      print(f\"\\nAverage loss: {test_loss}, Accuracy: {correct}/{len(test_loader.dataset)} ({test_acc}%)\\n\")\n",
        "\n",
        "      return test_acc, test_loss\n",
        "\n",
        "    def generate_report(self, train_loader, test_loader):\n",
        "      ''' Retorna un reporte con los diferentes entrenamientos (diferentes datasets) '''\n",
        "\n",
        "      self.ovrl_history = self.train(self.model_non_pretrained, train_loader, test_loader)\n"
      ],
      "metadata": {
        "id": "xMqTMKM-h8aC"
      },
      "execution_count": null,
      "outputs": []
    },
    {
      "cell_type": "code",
      "source": [
        "from google.colab import drive # importamos la función para montar el drive\n",
        "import pickle\n",
        "\n",
        "drive.mount(\"/content/gdrive\", force_remount=True)\n",
        "# tienes que crear carpeta \"proyecto_ap\" dentro de \"Colab Notebooks\" antes de ejecutar este código.\n",
        "drive_path = 'gdrive/MyDrive/Colab Notebooks/proyecto_ap'\n",
        "\n",
        "def save_logs(logs, name):\n",
        "    with open(f\"{drive_path}/{name}.pickle\", 'wb') as file:\n",
        "        pickle.dump(logs, file)\n",
        "\n",
        "def load_logs(name):\n",
        "    path = f\"{drive_path}/{name}.pickle\"\n",
        "    if os.path.exists(path):\n",
        "        with open(path, 'rb') as file:\n",
        "            return pickle.load(file)\n",
        "    return []\n"
      ],
      "metadata": {
        "colab": {
          "base_uri": "https://localhost:8080/"
        },
        "id": "SR5UtYe9Z_xr",
        "outputId": "a0349223-2412-4ae5-85c5-261cc3d254fd"
      },
      "execution_count": 20,
      "outputs": [
        {
          "output_type": "stream",
          "name": "stdout",
          "text": [
            "Mounted at /content/gdrive\n"
          ]
        }
      ]
    },
    {
      "cell_type": "code",
      "source": [
        "hparams = {\"lr\": 0.0005 , \"batch_size\": 32, \"n_epochs\": 20, \"input_size\": 224}\n",
        "# analyzer = LearningAnalyzer(TRAIN_IMAGES_DIR_BASE, hparams)"
      ],
      "metadata": {
        "id": "Y9jI54wYSH7Z"
      },
      "execution_count": null,
      "outputs": []
    },
    {
      "cell_type": "code",
      "source": [
        "# _transform = Compose([Resize((hparams[\"input_size\"], hparams[\"input_size\"])),\n",
        "#                     ToTensor(), Normalize((.5, .5, .5), (.5, .5, .5))])\n",
        "# _train = Characters(TRAIN_IMAGES_DIR_BASE, transform=_transform, start_range=20, range=40)\n",
        "# _test = Characters(EVALUATION_IMAGES_DIR_BASE, transform=_transform)\n",
        "# train_loader = DataLoader(_train, batch_size=hparams['batch_size'], shuffle=True)\n",
        "# test_loader = DataLoader(_test, batch_size=hparams['batch_size'], shuffle=True)"
      ],
      "metadata": {
        "id": "foi8A6KHRnPC"
      },
      "execution_count": null,
      "outputs": []
    },
    {
      "cell_type": "code",
      "source": [
        "\n",
        "for i in range(0, 48):\n",
        "    start = i*20\n",
        "    end = (i+1)*20\n",
        "    print(start, end)\n",
        "    analyzer = LearningAnalyzer(TRAIN_IMAGES_DIR_BASE, hparams)\n",
        "    _transform = Compose([Resize((hparams[\"input_size\"], hparams[\"input_size\"])),\n",
        "                        ToTensor(), Normalize((.5, .5, .5), (.5, .5, .5))])\n",
        "    _train = Characters(TRAIN_IMAGES_DIR_BASE, transform=_transform, start_range=start, range=end)\n",
        "    _test = Characters(EVALUATION_IMAGES_DIR_BASE, transform=_transform)\n",
        "    train_loader = DataLoader(_train, batch_size=hparams['batch_size'], shuffle=True)\n",
        "    test_loader = DataLoader(_test, batch_size=hparams['batch_size'], shuffle=True)\n",
        "\n",
        "    analyzer.generate_report(train_loader, test_loader)\n",
        "    save_logs(analyzer.ovrl_history,f\"not_pretrained_{start}_{end}\")"
      ],
      "metadata": {
        "colab": {
          "base_uri": "https://localhost:8080/"
        },
        "id": "-Z8nxhr2kpsB",
        "outputId": "6058a2d0-e979-4358-f84b-4b7c922e4a33"
      },
      "execution_count": null,
      "outputs": [
        {
          "output_type": "stream",
          "name": "stdout",
          "text": [
            "180 200\n"
          ]
        },
        {
          "output_type": "stream",
          "name": "stderr",
          "text": [
            "Epoch 0/20: 100%|██████████| 60/60 [00:20<00:00,  2.92batch/s, Acc=0.573, Loss=0.706]\n"
          ]
        },
        {
          "output_type": "stream",
          "name": "stdout",
          "text": [
            "\n",
            "------ Test época 0 -------\n",
            "\n",
            "Average loss: 0.023486153051878015, Accuracy: 1311/1920 (68.28125%)\n",
            "\n"
          ]
        },
        {
          "output_type": "stream",
          "name": "stderr",
          "text": [
            "Epoch 1/20: 100%|██████████| 60/60 [00:19<00:00,  3.02batch/s, Acc=0.642, Loss=0.547]\n"
          ]
        },
        {
          "output_type": "stream",
          "name": "stdout",
          "text": [
            "\n",
            "------ Test época 1 -------\n",
            "\n",
            "Average loss: 0.021378139173611997, Accuracy: 1257/1920 (65.46875%)\n",
            "\n"
          ]
        },
        {
          "output_type": "stream",
          "name": "stderr",
          "text": [
            "Epoch 2/20: 100%|██████████| 60/60 [00:19<00:00,  3.02batch/s, Acc=0.659, Loss=0.52]\n"
          ]
        },
        {
          "output_type": "stream",
          "name": "stdout",
          "text": [
            "\n",
            "------ Test época 2 -------\n",
            "\n",
            "Average loss: 0.018731661156440774, Accuracy: 1054/1920 (54.895833333333336%)\n",
            "\n"
          ]
        },
        {
          "output_type": "stream",
          "name": "stderr",
          "text": [
            "Epoch 3/20: 100%|██████████| 60/60 [00:20<00:00,  2.99batch/s, Acc=0.644, Loss=0.522]\n"
          ]
        },
        {
          "output_type": "stream",
          "name": "stdout",
          "text": [
            "\n",
            "------ Test época 3 -------\n",
            "\n",
            "Average loss: 0.01701874709688127, Accuracy: 1144/1920 (59.583333333333336%)\n",
            "\n"
          ]
        },
        {
          "output_type": "stream",
          "name": "stderr",
          "text": [
            "Epoch 4/20: 100%|██████████| 60/60 [00:19<00:00,  3.05batch/s, Acc=0.659, Loss=0.535]\n"
          ]
        },
        {
          "output_type": "stream",
          "name": "stdout",
          "text": [
            "\n",
            "------ Test época 4 -------\n",
            "\n",
            "Average loss: 0.021073708489226798, Accuracy: 1383/1920 (72.03125%)\n",
            "\n"
          ]
        },
        {
          "output_type": "stream",
          "name": "stderr",
          "text": [
            "Epoch 5/20: 100%|██████████| 60/60 [00:19<00:00,  3.08batch/s, Acc=0.677, Loss=0.501]\n"
          ]
        },
        {
          "output_type": "stream",
          "name": "stdout",
          "text": [
            "\n",
            "------ Test época 5 -------\n",
            "\n",
            "Average loss: 0.019449524286513527, Accuracy: 1237/1920 (64.42708333333333%)\n",
            "\n"
          ]
        },
        {
          "output_type": "stream",
          "name": "stderr",
          "text": [
            "Epoch 6/20: 100%|██████████| 60/60 [00:19<00:00,  3.06batch/s, Acc=0.648, Loss=0.523]\n"
          ]
        },
        {
          "output_type": "stream",
          "name": "stdout",
          "text": [
            "\n",
            "------ Test época 6 -------\n",
            "\n",
            "Average loss: 0.01735096420161426, Accuracy: 1257/1920 (65.46875%)\n",
            "\n"
          ]
        },
        {
          "output_type": "stream",
          "name": "stderr",
          "text": [
            "Epoch 7/20: 100%|██████████| 60/60 [00:20<00:00,  2.94batch/s, Acc=0.67, Loss=0.507]\n"
          ]
        },
        {
          "output_type": "stream",
          "name": "stdout",
          "text": [
            "\n",
            "------ Test época 7 -------\n",
            "\n",
            "Average loss: 0.019204044978444777, Accuracy: 1392/1920 (72.5%)\n",
            "\n"
          ]
        },
        {
          "output_type": "stream",
          "name": "stderr",
          "text": [
            "Epoch 8/20: 100%|██████████| 60/60 [00:23<00:00,  2.55batch/s, Acc=0.655, Loss=0.52]\n"
          ]
        },
        {
          "output_type": "stream",
          "name": "stdout",
          "text": [
            "\n",
            "------ Test época 8 -------\n",
            "\n",
            "Average loss: 0.024223396958162387, Accuracy: 1324/1920 (68.95833333333333%)\n",
            "\n"
          ]
        },
        {
          "output_type": "stream",
          "name": "stderr",
          "text": [
            "Epoch 9/20: 100%|██████████| 60/60 [00:20<00:00,  2.98batch/s, Acc=0.644, Loss=0.517]\n"
          ]
        },
        {
          "output_type": "stream",
          "name": "stdout",
          "text": [
            "\n",
            "------ Test época 9 -------\n",
            "\n",
            "Average loss: 0.017189073159048954, Accuracy: 1079/1920 (56.197916666666664%)\n",
            "\n"
          ]
        },
        {
          "output_type": "stream",
          "name": "stderr",
          "text": [
            "Epoch 10/20: 100%|██████████| 60/60 [00:20<00:00,  2.96batch/s, Acc=0.661, Loss=0.509]\n"
          ]
        },
        {
          "output_type": "stream",
          "name": "stdout",
          "text": [
            "\n",
            "------ Test época 10 -------\n",
            "\n",
            "Average loss: 0.017136056891952953, Accuracy: 1322/1920 (68.85416666666667%)\n",
            "\n"
          ]
        },
        {
          "output_type": "stream",
          "name": "stderr",
          "text": [
            "Epoch 11/20: 100%|██████████| 60/60 [00:20<00:00,  2.98batch/s, Acc=0.702, Loss=0.496]\n"
          ]
        },
        {
          "output_type": "stream",
          "name": "stdout",
          "text": [
            "\n",
            "------ Test época 11 -------\n",
            "\n",
            "Average loss: 0.016991301827753585, Accuracy: 1239/1920 (64.53125%)\n",
            "\n"
          ]
        },
        {
          "output_type": "stream",
          "name": "stderr",
          "text": [
            "Epoch 12/20: 100%|██████████| 60/60 [00:20<00:00,  2.95batch/s, Acc=0.671, Loss=0.488]\n"
          ]
        },
        {
          "output_type": "stream",
          "name": "stdout",
          "text": [
            "\n",
            "------ Test época 12 -------\n",
            "\n",
            "Average loss: 0.015934816856558124, Accuracy: 1295/1920 (67.44791666666667%)\n",
            "\n"
          ]
        },
        {
          "output_type": "stream",
          "name": "stderr",
          "text": [
            "Epoch 13/20: 100%|██████████| 60/60 [00:20<00:00,  3.00batch/s, Acc=0.674, Loss=0.515]\n"
          ]
        },
        {
          "output_type": "stream",
          "name": "stdout",
          "text": [
            "\n",
            "------ Test época 13 -------\n",
            "\n",
            "Average loss: 0.015966456662863494, Accuracy: 1225/1920 (63.802083333333336%)\n",
            "\n"
          ]
        },
        {
          "output_type": "stream",
          "name": "stderr",
          "text": [
            "Epoch 14/20: 100%|██████████| 60/60 [00:20<00:00,  2.98batch/s, Acc=0.698, Loss=0.485]\n"
          ]
        },
        {
          "output_type": "stream",
          "name": "stdout",
          "text": [
            "\n",
            "------ Test época 14 -------\n",
            "\n",
            "Average loss: 0.016491295769810677, Accuracy: 1118/1920 (58.229166666666664%)\n",
            "\n"
          ]
        },
        {
          "output_type": "stream",
          "name": "stderr",
          "text": [
            "Epoch 15/20: 100%|██████████| 60/60 [00:19<00:00,  3.01batch/s, Acc=0.64, Loss=0.529]\n"
          ]
        },
        {
          "output_type": "stream",
          "name": "stdout",
          "text": [
            "\n",
            "------ Test época 15 -------\n",
            "\n",
            "Average loss: 0.01771510879819592, Accuracy: 1362/1920 (70.9375%)\n",
            "\n"
          ]
        },
        {
          "output_type": "stream",
          "name": "stderr",
          "text": [
            "Epoch 16/20: 100%|██████████| 60/60 [00:19<00:00,  3.04batch/s, Acc=0.7, Loss=0.486]\n"
          ]
        },
        {
          "output_type": "stream",
          "name": "stdout",
          "text": [
            "\n",
            "------ Test época 16 -------\n",
            "\n",
            "Average loss: 0.0235435270704329, Accuracy: 1331/1920 (69.32291666666667%)\n",
            "\n"
          ]
        },
        {
          "output_type": "stream",
          "name": "stderr",
          "text": [
            "Epoch 17/20: 100%|██████████| 60/60 [00:20<00:00,  2.87batch/s, Acc=0.68, Loss=0.497]\n"
          ]
        },
        {
          "output_type": "stream",
          "name": "stdout",
          "text": [
            "\n",
            "------ Test época 17 -------\n",
            "\n",
            "Average loss: 0.017189159958312907, Accuracy: 1368/1920 (71.25%)\n",
            "\n"
          ]
        },
        {
          "output_type": "stream",
          "name": "stderr",
          "text": [
            "Epoch 18/20: 100%|██████████| 60/60 [00:20<00:00,  2.99batch/s, Acc=0.655, Loss=0.492]\n"
          ]
        },
        {
          "output_type": "stream",
          "name": "stdout",
          "text": [
            "\n",
            "------ Test época 18 -------\n",
            "\n",
            "Average loss: 0.01675237089705964, Accuracy: 1247/1920 (64.94791666666667%)\n",
            "\n"
          ]
        },
        {
          "output_type": "stream",
          "name": "stderr",
          "text": [
            "Epoch 19/20: 100%|██████████| 60/60 [00:20<00:00,  2.98batch/s, Acc=0.688, Loss=0.481]\n"
          ]
        },
        {
          "output_type": "stream",
          "name": "stdout",
          "text": [
            "\n",
            "------ Test época 19 -------\n",
            "\n",
            "Average loss: 0.015579566111167271, Accuracy: 1367/1920 (71.19791666666667%)\n",
            "\n",
            "200 220\n"
          ]
        },
        {
          "output_type": "stream",
          "name": "stderr",
          "text": [
            "Epoch 0/20: 100%|██████████| 60/60 [00:19<00:00,  3.04batch/s, Acc=0.578, Loss=0.678]\n"
          ]
        },
        {
          "output_type": "stream",
          "name": "stdout",
          "text": [
            "\n",
            "------ Test época 0 -------\n",
            "\n",
            "Average loss: 0.023244568488250177, Accuracy: 1157/1920 (60.260416666666664%)\n",
            "\n"
          ]
        },
        {
          "output_type": "stream",
          "name": "stderr",
          "text": [
            "Epoch 1/20: 100%|██████████| 60/60 [00:19<00:00,  3.05batch/s, Acc=0.636, Loss=0.577]\n"
          ]
        },
        {
          "output_type": "stream",
          "name": "stdout",
          "text": [
            "\n",
            "------ Test época 1 -------\n",
            "\n",
            "Average loss: 0.022397637848431864, Accuracy: 1391/1920 (72.44791666666667%)\n",
            "\n"
          ]
        },
        {
          "output_type": "stream",
          "name": "stderr",
          "text": [
            "Epoch 2/20: 100%|██████████| 60/60 [00:20<00:00,  2.96batch/s, Acc=0.641, Loss=0.534]\n"
          ]
        },
        {
          "output_type": "stream",
          "name": "stdout",
          "text": [
            "\n",
            "------ Test época 2 -------\n",
            "\n",
            "Average loss: 0.018972752693419654, Accuracy: 984/1920 (51.25%)\n",
            "\n"
          ]
        },
        {
          "output_type": "stream",
          "name": "stderr",
          "text": [
            "Epoch 3/20: 100%|██████████| 60/60 [00:20<00:00,  2.98batch/s, Acc=0.66, Loss=0.531]\n"
          ]
        },
        {
          "output_type": "stream",
          "name": "stdout",
          "text": [
            "\n",
            "------ Test época 3 -------\n",
            "\n",
            "Average loss: 0.017339294760798415, Accuracy: 1034/1920 (53.854166666666664%)\n",
            "\n"
          ]
        },
        {
          "output_type": "stream",
          "name": "stderr",
          "text": [
            "Epoch 4/20: 100%|██████████| 60/60 [00:21<00:00,  2.74batch/s, Acc=0.662, Loss=0.529]\n"
          ]
        },
        {
          "output_type": "stream",
          "name": "stdout",
          "text": [
            "\n",
            "------ Test época 4 -------\n",
            "\n",
            "Average loss: 0.01731376484967768, Accuracy: 1048/1920 (54.583333333333336%)\n",
            "\n"
          ]
        },
        {
          "output_type": "stream",
          "name": "stderr",
          "text": [
            "Epoch 5/20: 100%|██████████| 60/60 [00:21<00:00,  2.83batch/s, Acc=0.648, Loss=0.519]\n"
          ]
        },
        {
          "output_type": "stream",
          "name": "stdout",
          "text": [
            "\n",
            "------ Test época 5 -------\n",
            "\n",
            "Average loss: 0.021967511577531695, Accuracy: 1333/1920 (69.42708333333333%)\n",
            "\n"
          ]
        },
        {
          "output_type": "stream",
          "name": "stderr",
          "text": [
            "Epoch 6/20: 100%|██████████| 60/60 [00:20<00:00,  2.98batch/s, Acc=0.678, Loss=0.494]\n"
          ]
        },
        {
          "output_type": "stream",
          "name": "stdout",
          "text": [
            "\n",
            "------ Test época 6 -------\n",
            "\n",
            "Average loss: 0.02333317349354426, Accuracy: 1332/1920 (69.375%)\n",
            "\n"
          ]
        },
        {
          "output_type": "stream",
          "name": "stderr",
          "text": [
            "Epoch 7/20: 100%|██████████| 60/60 [00:19<00:00,  3.05batch/s, Acc=0.682, Loss=0.51]\n"
          ]
        },
        {
          "output_type": "stream",
          "name": "stdout",
          "text": [
            "\n",
            "------ Test época 7 -------\n",
            "\n",
            "Average loss: 0.01569216079078615, Accuracy: 1338/1920 (69.6875%)\n",
            "\n"
          ]
        },
        {
          "output_type": "stream",
          "name": "stderr",
          "text": [
            "Epoch 8/20: 100%|██████████| 60/60 [00:20<00:00,  2.97batch/s, Acc=0.665, Loss=0.518]\n"
          ]
        },
        {
          "output_type": "stream",
          "name": "stdout",
          "text": [
            "\n",
            "------ Test época 8 -------\n",
            "\n",
            "Average loss: 0.01677005277015269, Accuracy: 1073/1920 (55.885416666666664%)\n",
            "\n"
          ]
        },
        {
          "output_type": "stream",
          "name": "stderr",
          "text": [
            "Epoch 9/20: 100%|██████████| 60/60 [00:19<00:00,  3.01batch/s, Acc=0.651, Loss=0.539]\n"
          ]
        },
        {
          "output_type": "stream",
          "name": "stdout",
          "text": [
            "\n",
            "------ Test época 9 -------\n",
            "\n",
            "Average loss: 0.016660939094920953, Accuracy: 1216/1920 (63.333333333333336%)\n",
            "\n"
          ]
        },
        {
          "output_type": "stream",
          "name": "stderr",
          "text": [
            "Epoch 10/20: 100%|██████████| 60/60 [00:20<00:00,  2.97batch/s, Acc=0.679, Loss=0.508]\n"
          ]
        },
        {
          "output_type": "stream",
          "name": "stdout",
          "text": [
            "\n",
            "------ Test época 10 -------\n",
            "\n",
            "Average loss: 0.01673787315376103, Accuracy: 1349/1920 (70.26041666666667%)\n",
            "\n"
          ]
        },
        {
          "output_type": "stream",
          "name": "stderr",
          "text": [
            "Epoch 11/20: 100%|██████████| 60/60 [00:20<00:00,  2.92batch/s, Acc=0.669, Loss=0.512]\n"
          ]
        },
        {
          "output_type": "stream",
          "name": "stdout",
          "text": [
            "\n",
            "------ Test época 11 -------\n",
            "\n",
            "Average loss: 0.0149861017242074, Accuracy: 1220/1920 (63.541666666666664%)\n",
            "\n"
          ]
        },
        {
          "output_type": "stream",
          "name": "stderr",
          "text": [
            "Epoch 12/20: 100%|██████████| 60/60 [00:19<00:00,  3.05batch/s, Acc=0.708, Loss=0.486]\n"
          ]
        },
        {
          "output_type": "stream",
          "name": "stdout",
          "text": [
            "\n",
            "------ Test época 12 -------\n",
            "\n",
            "Average loss: 0.014541339843223493, Accuracy: 1289/1920 (67.13541666666667%)\n",
            "\n"
          ]
        },
        {
          "output_type": "stream",
          "name": "stderr",
          "text": [
            "Epoch 13/20: 100%|██████████| 60/60 [00:19<00:00,  3.05batch/s, Acc=0.712, Loss=0.478]\n"
          ]
        },
        {
          "output_type": "stream",
          "name": "stdout",
          "text": [
            "\n",
            "------ Test época 13 -------\n",
            "\n",
            "Average loss: 0.014367430175965031, Accuracy: 1410/1920 (73.4375%)\n",
            "\n"
          ]
        },
        {
          "output_type": "stream",
          "name": "stderr",
          "text": [
            "Epoch 14/20: 100%|██████████| 60/60 [00:20<00:00,  2.99batch/s, Acc=0.745, Loss=0.459]\n"
          ]
        },
        {
          "output_type": "stream",
          "name": "stdout",
          "text": [
            "\n",
            "------ Test época 14 -------\n",
            "\n",
            "Average loss: 0.016044317535124718, Accuracy: 1363/1920 (70.98958333333333%)\n",
            "\n"
          ]
        },
        {
          "output_type": "stream",
          "name": "stderr",
          "text": [
            "Epoch 15/20: 100%|██████████| 60/60 [00:20<00:00,  2.99batch/s, Acc=0.745, Loss=0.445]\n"
          ]
        },
        {
          "output_type": "stream",
          "name": "stdout",
          "text": [
            "\n",
            "------ Test época 15 -------\n",
            "\n",
            "Average loss: 0.01328404553545018, Accuracy: 1466/1920 (76.35416666666667%)\n",
            "\n"
          ]
        },
        {
          "output_type": "stream",
          "name": "stderr",
          "text": [
            "Epoch 16/20: 100%|██████████| 60/60 [00:20<00:00,  2.94batch/s, Acc=0.751, Loss=0.449]\n"
          ]
        },
        {
          "output_type": "stream",
          "name": "stdout",
          "text": [
            "\n",
            "------ Test época 16 -------\n",
            "\n",
            "Average loss: 0.016041827915857235, Accuracy: 1148/1920 (59.791666666666664%)\n",
            "\n"
          ]
        },
        {
          "output_type": "stream",
          "name": "stderr",
          "text": [
            "Epoch 17/20: 100%|██████████| 60/60 [00:19<00:00,  3.07batch/s, Acc=0.748, Loss=0.446]\n"
          ]
        },
        {
          "output_type": "stream",
          "name": "stdout",
          "text": [
            "\n",
            "------ Test época 17 -------\n",
            "\n",
            "Average loss: 0.019426509264546137, Accuracy: 1455/1920 (75.78125%)\n",
            "\n"
          ]
        },
        {
          "output_type": "stream",
          "name": "stderr",
          "text": [
            "Epoch 18/20: 100%|██████████| 60/60 [00:19<00:00,  3.02batch/s, Acc=0.752, Loss=0.436]\n"
          ]
        },
        {
          "output_type": "stream",
          "name": "stdout",
          "text": [
            "\n",
            "------ Test época 18 -------\n",
            "\n",
            "Average loss: 0.015174755717938145, Accuracy: 1442/1920 (75.10416666666667%)\n",
            "\n"
          ]
        },
        {
          "output_type": "stream",
          "name": "stderr",
          "text": [
            "Epoch 19/20: 100%|██████████| 60/60 [00:20<00:00,  2.97batch/s, Acc=0.779, Loss=0.426]\n"
          ]
        },
        {
          "output_type": "stream",
          "name": "stdout",
          "text": [
            "\n",
            "------ Test época 19 -------\n",
            "\n",
            "Average loss: 0.013213928307717044, Accuracy: 1544/1920 (80.41666666666667%)\n",
            "\n",
            "220 240\n"
          ]
        },
        {
          "output_type": "stream",
          "name": "stderr",
          "text": [
            "Epoch 0/20: 100%|██████████| 60/60 [00:20<00:00,  3.00batch/s, Acc=0.576, Loss=0.67]\n"
          ]
        },
        {
          "output_type": "stream",
          "name": "stdout",
          "text": [
            "\n",
            "------ Test época 0 -------\n",
            "\n",
            "Average loss: 0.02796645266935229, Accuracy: 1320/1920 (68.75%)\n",
            "\n"
          ]
        },
        {
          "output_type": "stream",
          "name": "stderr",
          "text": [
            "Epoch 1/20: 100%|██████████| 60/60 [00:20<00:00,  2.96batch/s, Acc=0.616, Loss=0.586]\n"
          ]
        },
        {
          "output_type": "stream",
          "name": "stdout",
          "text": [
            "\n",
            "------ Test época 1 -------\n",
            "\n",
            "Average loss: 0.01712087282600502, Accuracy: 1204/1920 (62.708333333333336%)\n",
            "\n"
          ]
        },
        {
          "output_type": "stream",
          "name": "stderr",
          "text": [
            "Epoch 2/20: 100%|██████████| 60/60 [00:20<00:00,  2.99batch/s, Acc=0.63, Loss=0.554]\n"
          ]
        },
        {
          "output_type": "stream",
          "name": "stdout",
          "text": [
            "\n",
            "------ Test época 2 -------\n",
            "\n",
            "Average loss: 0.02447242378257215, Accuracy: 1261/1920 (65.67708333333333%)\n",
            "\n"
          ]
        },
        {
          "output_type": "stream",
          "name": "stderr",
          "text": [
            "Epoch 3/20: 100%|██████████| 60/60 [00:20<00:00,  2.97batch/s, Acc=0.646, Loss=0.553]\n"
          ]
        },
        {
          "output_type": "stream",
          "name": "stdout",
          "text": [
            "\n",
            "------ Test época 3 -------\n",
            "\n",
            "Average loss: 0.01656488748267293, Accuracy: 1063/1920 (55.364583333333336%)\n",
            "\n"
          ]
        },
        {
          "output_type": "stream",
          "name": "stderr",
          "text": [
            "Epoch 4/20: 100%|██████████| 60/60 [00:20<00:00,  2.97batch/s, Acc=0.625, Loss=0.548]\n"
          ]
        },
        {
          "output_type": "stream",
          "name": "stdout",
          "text": [
            "\n",
            "------ Test época 4 -------\n",
            "\n",
            "Average loss: 0.01703817842838665, Accuracy: 1333/1920 (69.42708333333333%)\n",
            "\n"
          ]
        },
        {
          "output_type": "stream",
          "name": "stderr",
          "text": [
            "Epoch 5/20: 100%|██████████| 60/60 [00:19<00:00,  3.06batch/s, Acc=0.66, Loss=0.54]\n"
          ]
        },
        {
          "output_type": "stream",
          "name": "stdout",
          "text": [
            "\n",
            "------ Test época 5 -------\n",
            "\n",
            "Average loss: 0.015962283809979758, Accuracy: 1142/1920 (59.479166666666664%)\n",
            "\n"
          ]
        },
        {
          "output_type": "stream",
          "name": "stderr",
          "text": [
            "Epoch 6/20: 100%|██████████| 60/60 [00:19<00:00,  3.04batch/s, Acc=0.655, Loss=0.52]\n"
          ]
        },
        {
          "output_type": "stream",
          "name": "stdout",
          "text": [
            "\n",
            "------ Test época 6 -------\n",
            "\n",
            "Average loss: 0.01695406575066348, Accuracy: 1239/1920 (64.53125%)\n",
            "\n"
          ]
        },
        {
          "output_type": "stream",
          "name": "stderr",
          "text": [
            "Epoch 7/20: 100%|██████████| 60/60 [00:20<00:00,  2.97batch/s, Acc=0.633, Loss=0.542]\n"
          ]
        },
        {
          "output_type": "stream",
          "name": "stdout",
          "text": [
            "\n",
            "------ Test época 7 -------\n",
            "\n",
            "Average loss: 0.01638544405189653, Accuracy: 1075/1920 (55.989583333333336%)\n",
            "\n"
          ]
        },
        {
          "output_type": "stream",
          "name": "stderr",
          "text": [
            "Epoch 8/20: 100%|██████████| 60/60 [00:19<00:00,  3.00batch/s, Acc=0.662, Loss=0.528]\n"
          ]
        },
        {
          "output_type": "stream",
          "name": "stdout",
          "text": [
            "\n",
            "------ Test época 8 -------\n",
            "\n",
            "Average loss: 0.01615923228673637, Accuracy: 1182/1920 (61.5625%)\n",
            "\n"
          ]
        },
        {
          "output_type": "stream",
          "name": "stderr",
          "text": [
            "Epoch 9/20: 100%|██████████| 60/60 [00:19<00:00,  3.06batch/s, Acc=0.661, Loss=0.503]\n"
          ]
        },
        {
          "output_type": "stream",
          "name": "stdout",
          "text": [
            "\n",
            "------ Test época 9 -------\n",
            "\n",
            "Average loss: 0.017077242551992337, Accuracy: 1035/1920 (53.90625%)\n",
            "\n"
          ]
        },
        {
          "output_type": "stream",
          "name": "stderr",
          "text": [
            "Epoch 10/20: 100%|██████████| 60/60 [00:19<00:00,  3.04batch/s, Acc=0.678, Loss=0.538]\n"
          ]
        },
        {
          "output_type": "stream",
          "name": "stdout",
          "text": [
            "\n",
            "------ Test época 10 -------\n",
            "\n",
            "Average loss: 0.016851355507969856, Accuracy: 1114/1920 (58.020833333333336%)\n",
            "\n"
          ]
        },
        {
          "output_type": "stream",
          "name": "stderr",
          "text": [
            "Epoch 11/20: 100%|██████████| 60/60 [00:19<00:00,  3.03batch/s, Acc=0.661, Loss=0.499]\n"
          ]
        },
        {
          "output_type": "stream",
          "name": "stdout",
          "text": [
            "\n",
            "------ Test época 11 -------\n",
            "\n",
            "Average loss: 0.015010638581588864, Accuracy: 1187/1920 (61.822916666666664%)\n",
            "\n"
          ]
        },
        {
          "output_type": "stream",
          "name": "stderr",
          "text": [
            "Epoch 12/20: 100%|██████████| 60/60 [00:20<00:00,  2.94batch/s, Acc=0.687, Loss=0.502]\n"
          ]
        },
        {
          "output_type": "stream",
          "name": "stdout",
          "text": [
            "\n",
            "------ Test época 12 -------\n",
            "\n",
            "Average loss: 0.017364571103826165, Accuracy: 1410/1920 (73.4375%)\n",
            "\n"
          ]
        },
        {
          "output_type": "stream",
          "name": "stderr",
          "text": [
            "Epoch 13/20: 100%|██████████| 60/60 [00:20<00:00,  2.99batch/s, Acc=0.726, Loss=0.472]\n"
          ]
        },
        {
          "output_type": "stream",
          "name": "stdout",
          "text": [
            "\n",
            "------ Test época 13 -------\n",
            "\n",
            "Average loss: 0.015357292133073012, Accuracy: 1213/1920 (63.177083333333336%)\n",
            "\n"
          ]
        },
        {
          "output_type": "stream",
          "name": "stderr",
          "text": [
            "Epoch 14/20: 100%|██████████| 60/60 [00:19<00:00,  3.07batch/s, Acc=0.679, Loss=0.516]\n"
          ]
        },
        {
          "output_type": "stream",
          "name": "stdout",
          "text": [
            "\n",
            "------ Test época 14 -------\n",
            "\n",
            "Average loss: 0.016175825598960122, Accuracy: 1136/1920 (59.166666666666664%)\n",
            "\n"
          ]
        },
        {
          "output_type": "stream",
          "name": "stderr",
          "text": [
            "Epoch 15/20: 100%|██████████| 60/60 [00:20<00:00,  2.95batch/s, Acc=0.643, Loss=0.513]\n"
          ]
        },
        {
          "output_type": "stream",
          "name": "stdout",
          "text": [
            "\n",
            "------ Test época 15 -------\n",
            "\n",
            "Average loss: 0.017110861061761778, Accuracy: 1406/1920 (73.22916666666667%)\n",
            "\n"
          ]
        },
        {
          "output_type": "stream",
          "name": "stderr",
          "text": [
            "Epoch 16/20: 100%|██████████| 60/60 [00:19<00:00,  3.00batch/s, Acc=0.686, Loss=0.5]\n"
          ]
        },
        {
          "output_type": "stream",
          "name": "stdout",
          "text": [
            "\n",
            "------ Test época 16 -------\n",
            "\n",
            "Average loss: 0.015364252620687087, Accuracy: 1244/1920 (64.79166666666667%)\n",
            "\n"
          ]
        },
        {
          "output_type": "stream",
          "name": "stderr",
          "text": [
            "Epoch 17/20: 100%|██████████| 60/60 [00:19<00:00,  3.01batch/s, Acc=0.725, Loss=0.459]\n"
          ]
        },
        {
          "output_type": "stream",
          "name": "stdout",
          "text": [
            "\n",
            "------ Test época 17 -------\n",
            "\n",
            "Average loss: 0.013661472452804446, Accuracy: 1481/1920 (77.13541666666667%)\n",
            "\n"
          ]
        },
        {
          "output_type": "stream",
          "name": "stderr",
          "text": [
            "Epoch 18/20: 100%|██████████| 60/60 [00:19<00:00,  3.06batch/s, Acc=0.732, Loss=0.455]\n"
          ]
        },
        {
          "output_type": "stream",
          "name": "stdout",
          "text": [
            "\n",
            "------ Test época 18 -------\n",
            "\n",
            "Average loss: 0.016521672221521535, Accuracy: 1482/1920 (77.1875%)\n",
            "\n"
          ]
        },
        {
          "output_type": "stream",
          "name": "stderr",
          "text": [
            "Epoch 19/20: 100%|██████████| 60/60 [00:19<00:00,  3.05batch/s, Acc=0.712, Loss=0.472]\n"
          ]
        },
        {
          "output_type": "stream",
          "name": "stdout",
          "text": [
            "\n",
            "------ Test época 19 -------\n",
            "\n",
            "Average loss: 0.014357408213739594, Accuracy: 1539/1920 (80.15625%)\n",
            "\n",
            "240 260\n"
          ]
        },
        {
          "output_type": "stream",
          "name": "stderr",
          "text": [
            "Epoch 0/20: 100%|██████████| 60/60 [00:20<00:00,  2.87batch/s, Acc=0.591, Loss=0.642]\n"
          ]
        },
        {
          "output_type": "stream",
          "name": "stdout",
          "text": [
            "\n",
            "------ Test época 0 -------\n",
            "\n",
            "Average loss: 0.018011098401620983, Accuracy: 1221/1920 (63.59375%)\n",
            "\n"
          ]
        },
        {
          "output_type": "stream",
          "name": "stderr",
          "text": [
            "Epoch 1/20: 100%|██████████| 60/60 [00:20<00:00,  2.95batch/s, Acc=0.627, Loss=0.554]\n"
          ]
        },
        {
          "output_type": "stream",
          "name": "stdout",
          "text": [
            "\n",
            "------ Test época 1 -------\n",
            "\n",
            "Average loss: 0.01613323708685736, Accuracy: 1111/1920 (57.864583333333336%)\n",
            "\n"
          ]
        },
        {
          "output_type": "stream",
          "name": "stderr",
          "text": [
            "Epoch 2/20: 100%|██████████| 60/60 [00:20<00:00,  2.98batch/s, Acc=0.628, Loss=0.566]\n"
          ]
        },
        {
          "output_type": "stream",
          "name": "stdout",
          "text": [
            "\n",
            "------ Test época 2 -------\n",
            "\n",
            "Average loss: 0.018936772116770348, Accuracy: 1183/1920 (61.614583333333336%)\n",
            "\n"
          ]
        },
        {
          "output_type": "stream",
          "name": "stderr",
          "text": [
            "Epoch 3/20: 100%|██████████| 60/60 [00:19<00:00,  3.02batch/s, Acc=0.618, Loss=0.564]\n"
          ]
        },
        {
          "output_type": "stream",
          "name": "stdout",
          "text": [
            "\n",
            "------ Test época 3 -------\n",
            "\n",
            "Average loss: 0.017602257896214724, Accuracy: 1069/1920 (55.677083333333336%)\n",
            "\n"
          ]
        },
        {
          "output_type": "stream",
          "name": "stderr",
          "text": [
            "Epoch 4/20: 100%|██████████| 60/60 [00:19<00:00,  3.01batch/s, Acc=0.61, Loss=0.555]\n"
          ]
        },
        {
          "output_type": "stream",
          "name": "stdout",
          "text": [
            "\n",
            "------ Test época 4 -------\n",
            "\n",
            "Average loss: 0.01700091976672411, Accuracy: 1311/1920 (68.28125%)\n",
            "\n"
          ]
        },
        {
          "output_type": "stream",
          "name": "stderr",
          "text": [
            "Epoch 5/20: 100%|██████████| 60/60 [00:20<00:00,  2.94batch/s, Acc=0.665, Loss=0.51]\n"
          ]
        },
        {
          "output_type": "stream",
          "name": "stdout",
          "text": [
            "\n",
            "------ Test época 5 -------\n",
            "\n",
            "Average loss: 0.0159404158902665, Accuracy: 1407/1920 (73.28125%)\n",
            "\n"
          ]
        },
        {
          "output_type": "stream",
          "name": "stderr",
          "text": [
            "Epoch 6/20: 100%|██████████| 60/60 [00:19<00:00,  3.02batch/s, Acc=0.658, Loss=0.532]\n"
          ]
        },
        {
          "output_type": "stream",
          "name": "stdout",
          "text": [
            "\n",
            "------ Test época 6 -------\n",
            "\n",
            "Average loss: 0.015923156511659424, Accuracy: 1301/1920 (67.76041666666667%)\n",
            "\n"
          ]
        },
        {
          "output_type": "stream",
          "name": "stderr",
          "text": [
            "Epoch 7/20: 100%|██████████| 60/60 [00:19<00:00,  3.03batch/s, Acc=0.635, Loss=0.531]\n"
          ]
        },
        {
          "output_type": "stream",
          "name": "stdout",
          "text": [
            "\n",
            "------ Test época 7 -------\n",
            "\n",
            "Average loss: 0.016732112877070902, Accuracy: 1328/1920 (69.16666666666667%)\n",
            "\n"
          ]
        },
        {
          "output_type": "stream",
          "name": "stderr",
          "text": [
            "Epoch 8/20: 100%|██████████| 60/60 [00:19<00:00,  3.00batch/s, Acc=0.665, Loss=0.492]\n"
          ]
        },
        {
          "output_type": "stream",
          "name": "stdout",
          "text": [
            "\n",
            "------ Test época 8 -------\n",
            "\n",
            "Average loss: 0.017377139410624902, Accuracy: 1178/1920 (61.354166666666664%)\n",
            "\n"
          ]
        },
        {
          "output_type": "stream",
          "name": "stderr",
          "text": [
            "Epoch 9/20: 100%|██████████| 60/60 [00:20<00:00,  2.89batch/s, Acc=0.684, Loss=0.497]\n"
          ]
        },
        {
          "output_type": "stream",
          "name": "stdout",
          "text": [
            "\n",
            "------ Test época 9 -------\n",
            "\n",
            "Average loss: 0.019486641821761925, Accuracy: 1354/1920 (70.52083333333333%)\n",
            "\n"
          ]
        },
        {
          "output_type": "stream",
          "name": "stderr",
          "text": [
            "Epoch 10/20: 100%|██████████| 60/60 [00:20<00:00,  2.99batch/s, Acc=0.634, Loss=0.51]\n"
          ]
        },
        {
          "output_type": "stream",
          "name": "stdout",
          "text": [
            "\n",
            "------ Test época 10 -------\n",
            "\n",
            "Average loss: 0.015550259205823144, Accuracy: 1259/1920 (65.57291666666667%)\n",
            "\n"
          ]
        },
        {
          "output_type": "stream",
          "name": "stderr",
          "text": [
            "Epoch 11/20: 100%|██████████| 60/60 [00:19<00:00,  3.04batch/s, Acc=0.689, Loss=0.509]\n"
          ]
        },
        {
          "output_type": "stream",
          "name": "stdout",
          "text": [
            "\n",
            "------ Test época 11 -------\n",
            "\n",
            "Average loss: 0.017520023152853052, Accuracy: 1429/1920 (74.42708333333333%)\n",
            "\n"
          ]
        },
        {
          "output_type": "stream",
          "name": "stderr",
          "text": [
            "Epoch 12/20: 100%|██████████| 60/60 [00:19<00:00,  3.04batch/s, Acc=0.661, Loss=0.528]\n"
          ]
        },
        {
          "output_type": "stream",
          "name": "stdout",
          "text": [
            "\n",
            "------ Test época 12 -------\n",
            "\n",
            "Average loss: 0.016584623993063968, Accuracy: 1150/1920 (59.895833333333336%)\n",
            "\n"
          ]
        },
        {
          "output_type": "stream",
          "name": "stderr",
          "text": [
            "Epoch 13/20: 100%|██████████| 60/60 [00:20<00:00,  2.99batch/s, Acc=0.672, Loss=0.505]\n"
          ]
        },
        {
          "output_type": "stream",
          "name": "stdout",
          "text": [
            "\n",
            "------ Test época 13 -------\n",
            "\n",
            "Average loss: 0.016174057483052215, Accuracy: 1213/1920 (63.177083333333336%)\n",
            "\n"
          ]
        },
        {
          "output_type": "stream",
          "name": "stderr",
          "text": [
            "Epoch 14/20: 100%|██████████| 60/60 [00:20<00:00,  2.90batch/s, Acc=0.672, Loss=0.497]\n"
          ]
        },
        {
          "output_type": "stream",
          "name": "stdout",
          "text": [
            "\n",
            "------ Test época 14 -------\n",
            "\n",
            "Average loss: 0.015656296303495763, Accuracy: 1182/1920 (61.5625%)\n",
            "\n"
          ]
        },
        {
          "output_type": "stream",
          "name": "stderr",
          "text": [
            "Epoch 15/20: 100%|██████████| 60/60 [00:19<00:00,  3.03batch/s, Acc=0.662, Loss=0.502]\n"
          ]
        },
        {
          "output_type": "stream",
          "name": "stdout",
          "text": [
            "\n",
            "------ Test época 15 -------\n",
            "\n",
            "Average loss: 0.01917086954539021, Accuracy: 1415/1920 (73.69791666666667%)\n",
            "\n"
          ]
        },
        {
          "output_type": "stream",
          "name": "stderr",
          "text": [
            "Epoch 16/20: 100%|██████████| 60/60 [00:19<00:00,  3.05batch/s, Acc=0.672, Loss=0.5]\n"
          ]
        },
        {
          "output_type": "stream",
          "name": "stdout",
          "text": [
            "\n",
            "------ Test época 16 -------\n",
            "\n",
            "Average loss: 0.014945283873627584, Accuracy: 1360/1920 (70.83333333333333%)\n",
            "\n"
          ]
        },
        {
          "output_type": "stream",
          "name": "stderr",
          "text": [
            "Epoch 17/20: 100%|██████████| 60/60 [00:20<00:00,  2.98batch/s, Acc=0.685, Loss=0.478]\n"
          ]
        },
        {
          "output_type": "stream",
          "name": "stdout",
          "text": [
            "\n",
            "------ Test época 17 -------\n",
            "\n",
            "Average loss: 0.0204307292898496, Accuracy: 1398/1920 (72.8125%)\n",
            "\n"
          ]
        },
        {
          "output_type": "stream",
          "name": "stderr",
          "text": [
            "Epoch 18/20: 100%|██████████| 60/60 [00:20<00:00,  2.96batch/s, Acc=0.686, Loss=0.503]\n"
          ]
        },
        {
          "output_type": "stream",
          "name": "stdout",
          "text": [
            "\n",
            "------ Test época 18 -------\n",
            "\n",
            "Average loss: 0.015492188542460402, Accuracy: 1229/1920 (64.01041666666667%)\n",
            "\n"
          ]
        },
        {
          "output_type": "stream",
          "name": "stderr",
          "text": [
            "Epoch 19/20: 100%|██████████| 60/60 [00:20<00:00,  2.91batch/s, Acc=0.681, Loss=0.485]\n"
          ]
        },
        {
          "output_type": "stream",
          "name": "stdout",
          "text": [
            "\n",
            "------ Test época 19 -------\n",
            "\n",
            "Average loss: 0.015934831540410716, Accuracy: 1267/1920 (65.98958333333333%)\n",
            "\n",
            "260 280\n"
          ]
        },
        {
          "output_type": "stream",
          "name": "stderr",
          "text": [
            "Epoch 0/20: 100%|██████████| 60/60 [00:19<00:00,  3.04batch/s, Acc=0.576, Loss=0.653]\n"
          ]
        },
        {
          "output_type": "stream",
          "name": "stdout",
          "text": [
            "\n",
            "------ Test época 0 -------\n",
            "\n",
            "Average loss: 0.020255339859674374, Accuracy: 1348/1920 (70.20833333333333%)\n",
            "\n"
          ]
        },
        {
          "output_type": "stream",
          "name": "stderr",
          "text": [
            "Epoch 1/20: 100%|██████████| 60/60 [00:19<00:00,  3.02batch/s, Acc=0.614, Loss=0.542]\n"
          ]
        },
        {
          "output_type": "stream",
          "name": "stdout",
          "text": [
            "\n",
            "------ Test época 1 -------\n",
            "\n",
            "Average loss: 0.017791029096891484, Accuracy: 1306/1920 (68.02083333333333%)\n",
            "\n"
          ]
        },
        {
          "output_type": "stream",
          "name": "stderr",
          "text": [
            "Epoch 2/20: 100%|██████████| 60/60 [00:20<00:00,  2.98batch/s, Acc=0.633, Loss=0.542]\n"
          ]
        },
        {
          "output_type": "stream",
          "name": "stdout",
          "text": [
            "\n",
            "------ Test época 2 -------\n",
            "\n",
            "Average loss: 0.018335246729354063, Accuracy: 1166/1920 (60.729166666666664%)\n",
            "\n"
          ]
        },
        {
          "output_type": "stream",
          "name": "stderr",
          "text": [
            "Epoch 3/20: 100%|██████████| 60/60 [00:20<00:00,  2.99batch/s, Acc=0.671, Loss=0.53]\n"
          ]
        },
        {
          "output_type": "stream",
          "name": "stdout",
          "text": [
            "\n",
            "------ Test época 3 -------\n",
            "\n",
            "Average loss: 0.01720993349639078, Accuracy: 1030/1920 (53.645833333333336%)\n",
            "\n"
          ]
        },
        {
          "output_type": "stream",
          "name": "stderr",
          "text": [
            "Epoch 4/20: 100%|██████████| 60/60 [00:19<00:00,  3.03batch/s, Acc=0.631, Loss=0.544]\n"
          ]
        },
        {
          "output_type": "stream",
          "name": "stdout",
          "text": [
            "\n",
            "------ Test época 4 -------\n",
            "\n",
            "Average loss: 0.01895771911367774, Accuracy: 1367/1920 (71.19791666666667%)\n",
            "\n"
          ]
        },
        {
          "output_type": "stream",
          "name": "stderr",
          "text": [
            "Epoch 5/20: 100%|██████████| 60/60 [00:19<00:00,  3.03batch/s, Acc=0.647, Loss=0.538]\n"
          ]
        },
        {
          "output_type": "stream",
          "name": "stdout",
          "text": [
            "\n",
            "------ Test época 5 -------\n",
            "\n",
            "Average loss: 0.015740714548155666, Accuracy: 1197/1920 (62.34375%)\n",
            "\n"
          ]
        },
        {
          "output_type": "stream",
          "name": "stderr",
          "text": [
            "Epoch 6/20: 100%|██████████| 60/60 [00:20<00:00,  2.99batch/s, Acc=0.649, Loss=0.51]\n"
          ]
        },
        {
          "output_type": "stream",
          "name": "stdout",
          "text": [
            "\n",
            "------ Test época 6 -------\n",
            "\n",
            "Average loss: 0.017561152717098592, Accuracy: 1263/1920 (65.78125%)\n",
            "\n"
          ]
        },
        {
          "output_type": "stream",
          "name": "stderr",
          "text": [
            "Epoch 7/20: 100%|██████████| 60/60 [00:20<00:00,  2.97batch/s, Acc=0.651, Loss=0.533]\n"
          ]
        },
        {
          "output_type": "stream",
          "name": "stdout",
          "text": [
            "\n",
            "------ Test época 7 -------\n",
            "\n",
            "Average loss: 0.016551213758066296, Accuracy: 1405/1920 (73.17708333333333%)\n",
            "\n"
          ]
        },
        {
          "output_type": "stream",
          "name": "stderr",
          "text": [
            "Epoch 8/20: 100%|██████████| 60/60 [00:20<00:00,  2.94batch/s, Acc=0.647, Loss=0.529]\n"
          ]
        },
        {
          "output_type": "stream",
          "name": "stdout",
          "text": [
            "\n",
            "------ Test época 8 -------\n",
            "\n",
            "Average loss: 0.01724520173544685, Accuracy: 1183/1920 (61.614583333333336%)\n",
            "\n"
          ]
        },
        {
          "output_type": "stream",
          "name": "stderr",
          "text": [
            "Epoch 9/20: 100%|██████████| 60/60 [00:19<00:00,  3.05batch/s, Acc=0.659, Loss=0.503]\n"
          ]
        },
        {
          "output_type": "stream",
          "name": "stdout",
          "text": [
            "\n",
            "------ Test época 9 -------\n",
            "\n",
            "Average loss: 0.016314547120903928, Accuracy: 1217/1920 (63.385416666666664%)\n",
            "\n"
          ]
        },
        {
          "output_type": "stream",
          "name": "stderr",
          "text": [
            "Epoch 10/20: 100%|██████████| 60/60 [00:20<00:00,  2.98batch/s, Acc=0.644, Loss=0.513]\n"
          ]
        },
        {
          "output_type": "stream",
          "name": "stdout",
          "text": [
            "\n",
            "------ Test época 10 -------\n",
            "\n",
            "Average loss: 0.015614853302637736, Accuracy: 1173/1920 (61.09375%)\n",
            "\n"
          ]
        },
        {
          "output_type": "stream",
          "name": "stderr",
          "text": [
            "Epoch 11/20: 100%|██████████| 60/60 [00:20<00:00,  2.98batch/s, Acc=0.665, Loss=0.508]\n"
          ]
        },
        {
          "output_type": "stream",
          "name": "stdout",
          "text": [
            "\n",
            "------ Test época 11 -------\n",
            "\n",
            "Average loss: 0.015730741542453568, Accuracy: 1312/1920 (68.33333333333333%)\n",
            "\n"
          ]
        },
        {
          "output_type": "stream",
          "name": "stderr",
          "text": [
            "Epoch 12/20: 100%|██████████| 60/60 [00:19<00:00,  3.02batch/s, Acc=0.662, Loss=0.504]\n"
          ]
        },
        {
          "output_type": "stream",
          "name": "stdout",
          "text": [
            "\n",
            "------ Test época 12 -------\n",
            "\n",
            "Average loss: 0.016084427510698638, Accuracy: 1179/1920 (61.40625%)\n",
            "\n"
          ]
        },
        {
          "output_type": "stream",
          "name": "stderr",
          "text": [
            "Epoch 13/20: 100%|██████████| 60/60 [00:20<00:00,  2.97batch/s, Acc=0.662, Loss=0.497]\n"
          ]
        },
        {
          "output_type": "stream",
          "name": "stdout",
          "text": [
            "\n",
            "------ Test época 13 -------\n",
            "\n",
            "Average loss: 0.01563007285197576, Accuracy: 1145/1920 (59.635416666666664%)\n",
            "\n"
          ]
        },
        {
          "output_type": "stream",
          "name": "stderr",
          "text": [
            "Epoch 14/20: 100%|██████████| 60/60 [00:19<00:00,  3.00batch/s, Acc=0.695, Loss=0.473]\n"
          ]
        },
        {
          "output_type": "stream",
          "name": "stdout",
          "text": [
            "\n",
            "------ Test época 14 -------\n",
            "\n",
            "Average loss: 0.015435034673040112, Accuracy: 1441/1920 (75.05208333333333%)\n",
            "\n"
          ]
        },
        {
          "output_type": "stream",
          "name": "stderr",
          "text": [
            "Epoch 15/20: 100%|██████████| 60/60 [00:20<00:00,  2.97batch/s, Acc=0.688, Loss=0.503]\n"
          ]
        },
        {
          "output_type": "stream",
          "name": "stdout",
          "text": [
            "\n",
            "------ Test época 15 -------\n",
            "\n",
            "Average loss: 0.01590208849714448, Accuracy: 1420/1920 (73.95833333333333%)\n",
            "\n"
          ]
        },
        {
          "output_type": "stream",
          "name": "stderr",
          "text": [
            "Epoch 16/20: 100%|██████████| 60/60 [00:19<00:00,  3.00batch/s, Acc=0.664, Loss=0.515]\n"
          ]
        },
        {
          "output_type": "stream",
          "name": "stdout",
          "text": [
            "\n",
            "------ Test época 16 -------\n",
            "\n",
            "Average loss: 0.015525735852619012, Accuracy: 1244/1920 (64.79166666666667%)\n",
            "\n"
          ]
        },
        {
          "output_type": "stream",
          "name": "stderr",
          "text": [
            "Epoch 17/20: 100%|██████████| 60/60 [00:19<00:00,  3.05batch/s, Acc=0.739, Loss=0.455]\n"
          ]
        },
        {
          "output_type": "stream",
          "name": "stdout",
          "text": [
            "\n",
            "------ Test época 17 -------\n",
            "\n",
            "Average loss: 0.015304088639095426, Accuracy: 1507/1920 (78.48958333333333%)\n",
            "\n"
          ]
        },
        {
          "output_type": "stream",
          "name": "stderr",
          "text": [
            "Epoch 18/20: 100%|██████████| 60/60 [00:19<00:00,  3.03batch/s, Acc=0.74, Loss=0.442]\n"
          ]
        },
        {
          "output_type": "stream",
          "name": "stdout",
          "text": [
            "\n",
            "------ Test época 18 -------\n",
            "\n",
            "Average loss: 0.015231301713113984, Accuracy: 1481/1920 (77.13541666666667%)\n",
            "\n"
          ]
        },
        {
          "output_type": "stream",
          "name": "stderr",
          "text": [
            "Epoch 19/20: 100%|██████████| 60/60 [00:20<00:00,  2.96batch/s, Acc=0.747, Loss=0.433]\n"
          ]
        },
        {
          "output_type": "stream",
          "name": "stdout",
          "text": [
            "\n",
            "------ Test época 19 -------\n",
            "\n",
            "Average loss: 0.017222793446853756, Accuracy: 1481/1920 (77.13541666666667%)\n",
            "\n",
            "280 300\n"
          ]
        },
        {
          "output_type": "stream",
          "name": "stderr",
          "text": [
            "Epoch 0/20: 100%|██████████| 60/60 [00:20<00:00,  2.97batch/s, Acc=0.576, Loss=0.664]\n"
          ]
        },
        {
          "output_type": "stream",
          "name": "stdout",
          "text": [
            "\n",
            "------ Test época 0 -------\n",
            "\n",
            "Average loss: 0.017524705672015747, Accuracy: 1264/1920 (65.83333333333333%)\n",
            "\n"
          ]
        },
        {
          "output_type": "stream",
          "name": "stderr",
          "text": [
            "Epoch 1/20: 100%|██████████| 60/60 [00:19<00:00,  3.05batch/s, Acc=0.624, Loss=0.568]\n"
          ]
        },
        {
          "output_type": "stream",
          "name": "stdout",
          "text": [
            "\n",
            "------ Test época 1 -------\n",
            "\n",
            "Average loss: 0.01802480439655483, Accuracy: 1359/1920 (70.78125%)\n",
            "\n"
          ]
        },
        {
          "output_type": "stream",
          "name": "stderr",
          "text": [
            "Epoch 2/20: 100%|██████████| 60/60 [00:20<00:00,  2.95batch/s, Acc=0.629, Loss=0.574]\n"
          ]
        },
        {
          "output_type": "stream",
          "name": "stdout",
          "text": [
            "\n",
            "------ Test época 2 -------\n",
            "\n",
            "Average loss: 0.017300892140095434, Accuracy: 1415/1920 (73.69791666666667%)\n",
            "\n"
          ]
        },
        {
          "output_type": "stream",
          "name": "stderr",
          "text": [
            "Epoch 3/20: 100%|██████████| 60/60 [00:20<00:00,  2.98batch/s, Acc=0.667, Loss=0.508]\n"
          ]
        },
        {
          "output_type": "stream",
          "name": "stdout",
          "text": [
            "\n",
            "------ Test época 3 -------\n",
            "\n",
            "Average loss: 0.016326230640212696, Accuracy: 1411/1920 (73.48958333333333%)\n",
            "\n"
          ]
        },
        {
          "output_type": "stream",
          "name": "stderr",
          "text": [
            "Epoch 4/20: 100%|██████████| 60/60 [00:20<00:00,  2.97batch/s, Acc=0.653, Loss=0.529]\n"
          ]
        },
        {
          "output_type": "stream",
          "name": "stdout",
          "text": [
            "\n",
            "------ Test época 4 -------\n",
            "\n",
            "Average loss: 0.019685403862968087, Accuracy: 1375/1920 (71.61458333333333%)\n",
            "\n"
          ]
        },
        {
          "output_type": "stream",
          "name": "stderr",
          "text": [
            "Epoch 5/20: 100%|██████████| 60/60 [00:19<00:00,  3.05batch/s, Acc=0.64, Loss=0.539]\n"
          ]
        },
        {
          "output_type": "stream",
          "name": "stdout",
          "text": [
            "\n",
            "------ Test época 5 -------\n",
            "\n",
            "Average loss: 0.016544212168082596, Accuracy: 1405/1920 (73.17708333333333%)\n",
            "\n"
          ]
        },
        {
          "output_type": "stream",
          "name": "stderr",
          "text": [
            "Epoch 6/20: 100%|██████████| 60/60 [00:19<00:00,  3.05batch/s, Acc=0.677, Loss=0.516]\n"
          ]
        },
        {
          "output_type": "stream",
          "name": "stdout",
          "text": [
            "\n",
            "------ Test época 6 -------\n",
            "\n",
            "Average loss: 0.01587788313627243, Accuracy: 1296/1920 (67.5%)\n",
            "\n"
          ]
        },
        {
          "output_type": "stream",
          "name": "stderr",
          "text": [
            "Epoch 7/20: 100%|██████████| 60/60 [00:20<00:00,  2.92batch/s, Acc=0.674, Loss=0.52]\n"
          ]
        },
        {
          "output_type": "stream",
          "name": "stdout",
          "text": [
            "\n",
            "------ Test época 7 -------\n",
            "\n",
            "Average loss: 0.016189853831504782, Accuracy: 1266/1920 (65.9375%)\n",
            "\n"
          ]
        },
        {
          "output_type": "stream",
          "name": "stderr",
          "text": [
            "Epoch 8/20: 100%|██████████| 60/60 [00:20<00:00,  2.98batch/s, Acc=0.647, Loss=0.524]\n"
          ]
        },
        {
          "output_type": "stream",
          "name": "stdout",
          "text": [
            "\n",
            "------ Test época 8 -------\n",
            "\n",
            "Average loss: 0.016396571059400837, Accuracy: 1145/1920 (59.635416666666664%)\n",
            "\n"
          ]
        },
        {
          "output_type": "stream",
          "name": "stderr",
          "text": [
            "Epoch 9/20: 100%|██████████| 60/60 [00:19<00:00,  3.01batch/s, Acc=0.659, Loss=0.535]\n"
          ]
        },
        {
          "output_type": "stream",
          "name": "stdout",
          "text": [
            "\n",
            "------ Test época 9 -------\n",
            "\n",
            "Average loss: 0.017143687621379893, Accuracy: 1344/1920 (70.0%)\n",
            "\n"
          ]
        },
        {
          "output_type": "stream",
          "name": "stderr",
          "text": [
            "Epoch 10/20: 100%|██████████| 60/60 [00:19<00:00,  3.05batch/s, Acc=0.642, Loss=0.538]\n"
          ]
        },
        {
          "output_type": "stream",
          "name": "stdout",
          "text": [
            "\n",
            "------ Test época 10 -------\n",
            "\n",
            "Average loss: 0.018684225777784984, Accuracy: 1284/1920 (66.875%)\n",
            "\n"
          ]
        },
        {
          "output_type": "stream",
          "name": "stderr",
          "text": [
            "Epoch 11/20: 100%|██████████| 60/60 [00:19<00:00,  3.07batch/s, Acc=0.661, Loss=0.513]\n"
          ]
        },
        {
          "output_type": "stream",
          "name": "stdout",
          "text": [
            "\n",
            "------ Test época 11 -------\n",
            "\n",
            "Average loss: 0.016742009840284785, Accuracy: 1345/1920 (70.05208333333333%)\n",
            "\n"
          ]
        },
        {
          "output_type": "stream",
          "name": "stderr",
          "text": [
            "Epoch 12/20: 100%|██████████| 60/60 [00:20<00:00,  2.98batch/s, Acc=0.648, Loss=0.523]\n"
          ]
        },
        {
          "output_type": "stream",
          "name": "stdout",
          "text": [
            "\n",
            "------ Test época 12 -------\n",
            "\n",
            "Average loss: 0.018761321669444442, Accuracy: 1338/1920 (69.6875%)\n",
            "\n"
          ]
        },
        {
          "output_type": "stream",
          "name": "stderr",
          "text": [
            "Epoch 13/20: 100%|██████████| 60/60 [00:20<00:00,  2.97batch/s, Acc=0.66, Loss=0.511]\n"
          ]
        },
        {
          "output_type": "stream",
          "name": "stdout",
          "text": [
            "\n",
            "------ Test época 13 -------\n",
            "\n",
            "Average loss: 0.017012441282471022, Accuracy: 1197/1920 (62.34375%)\n",
            "\n"
          ]
        },
        {
          "output_type": "stream",
          "name": "stderr",
          "text": [
            "Epoch 14/20: 100%|██████████| 60/60 [00:19<00:00,  3.03batch/s, Acc=0.685, Loss=0.492]\n"
          ]
        },
        {
          "output_type": "stream",
          "name": "stdout",
          "text": [
            "\n",
            "------ Test época 14 -------\n",
            "\n",
            "Average loss: 0.01642973821920653, Accuracy: 1372/1920 (71.45833333333333%)\n",
            "\n"
          ]
        },
        {
          "output_type": "stream",
          "name": "stderr",
          "text": [
            "Epoch 15/20: 100%|██████████| 60/60 [00:19<00:00,  3.04batch/s, Acc=0.705, Loss=0.485]\n"
          ]
        },
        {
          "output_type": "stream",
          "name": "stdout",
          "text": [
            "\n",
            "------ Test época 15 -------\n",
            "\n",
            "Average loss: 0.015675340608383218, Accuracy: 1384/1920 (72.08333333333333%)\n",
            "\n"
          ]
        },
        {
          "output_type": "stream",
          "name": "stderr",
          "text": [
            "Epoch 16/20: 100%|██████████| 60/60 [00:20<00:00,  2.95batch/s, Acc=0.676, Loss=0.508]\n"
          ]
        },
        {
          "output_type": "stream",
          "name": "stdout",
          "text": [
            "\n",
            "------ Test época 16 -------\n",
            "\n",
            "Average loss: 0.01689749420620501, Accuracy: 1455/1920 (75.78125%)\n",
            "\n"
          ]
        },
        {
          "output_type": "stream",
          "name": "stderr",
          "text": [
            "Epoch 17/20: 100%|██████████| 60/60 [00:20<00:00,  2.98batch/s, Acc=0.707, Loss=0.486]\n"
          ]
        },
        {
          "output_type": "stream",
          "name": "stdout",
          "text": [
            "\n",
            "------ Test época 17 -------\n",
            "\n",
            "Average loss: 0.015602305671200157, Accuracy: 1406/1920 (73.22916666666667%)\n",
            "\n"
          ]
        },
        {
          "output_type": "stream",
          "name": "stderr",
          "text": [
            "Epoch 18/20: 100%|██████████| 60/60 [00:19<00:00,  3.01batch/s, Acc=0.697, Loss=0.483]\n"
          ]
        },
        {
          "output_type": "stream",
          "name": "stdout",
          "text": [
            "\n",
            "------ Test época 18 -------\n",
            "\n",
            "Average loss: 0.016701848603164156, Accuracy: 1441/1920 (75.05208333333333%)\n",
            "\n"
          ]
        },
        {
          "output_type": "stream",
          "name": "stderr",
          "text": [
            "Epoch 19/20: 100%|██████████| 60/60 [00:19<00:00,  3.05batch/s, Acc=0.697, Loss=0.493]\n"
          ]
        },
        {
          "output_type": "stream",
          "name": "stdout",
          "text": [
            "\n",
            "------ Test época 19 -------\n",
            "\n",
            "Average loss: 0.015786027535796165, Accuracy: 1281/1920 (66.71875%)\n",
            "\n",
            "300 320\n"
          ]
        },
        {
          "output_type": "stream",
          "name": "stderr",
          "text": [
            "Epoch 0/20: 100%|██████████| 60/60 [00:19<00:00,  3.05batch/s, Acc=0.586, Loss=0.648]\n"
          ]
        },
        {
          "output_type": "stream",
          "name": "stdout",
          "text": [
            "\n",
            "------ Test época 0 -------\n",
            "\n",
            "Average loss: 0.016528296160201232, Accuracy: 1310/1920 (68.22916666666667%)\n",
            "\n"
          ]
        },
        {
          "output_type": "stream",
          "name": "stderr",
          "text": [
            "Epoch 1/20: 100%|██████████| 60/60 [00:20<00:00,  2.96batch/s, Acc=0.649, Loss=0.54]\n"
          ]
        },
        {
          "output_type": "stream",
          "name": "stdout",
          "text": [
            "\n",
            "------ Test época 1 -------\n",
            "\n",
            "Average loss: 0.020442506438121198, Accuracy: 1282/1920 (66.77083333333333%)\n",
            "\n"
          ]
        },
        {
          "output_type": "stream",
          "name": "stderr",
          "text": [
            "Epoch 2/20: 100%|██████████| 60/60 [00:20<00:00,  2.99batch/s, Acc=0.639, Loss=0.53]\n"
          ]
        },
        {
          "output_type": "stream",
          "name": "stdout",
          "text": [
            "\n",
            "------ Test época 2 -------\n",
            "\n",
            "Average loss: 0.01862552066644033, Accuracy: 1231/1920 (64.11458333333333%)\n",
            "\n"
          ]
        },
        {
          "output_type": "stream",
          "name": "stderr",
          "text": [
            "Epoch 3/20: 100%|██████████| 60/60 [00:19<00:00,  3.04batch/s, Acc=0.668, Loss=0.506]\n"
          ]
        },
        {
          "output_type": "stream",
          "name": "stdout",
          "text": [
            "\n",
            "------ Test época 3 -------\n",
            "\n",
            "Average loss: 0.022487778138990205, Accuracy: 1292/1920 (67.29166666666667%)\n",
            "\n"
          ]
        },
        {
          "output_type": "stream",
          "name": "stderr",
          "text": [
            "Epoch 4/20: 100%|██████████| 60/60 [00:19<00:00,  3.04batch/s, Acc=0.676, Loss=0.503]\n"
          ]
        },
        {
          "output_type": "stream",
          "name": "stdout",
          "text": [
            "\n",
            "------ Test época 4 -------\n",
            "\n",
            "Average loss: 0.0155552938580513, Accuracy: 1235/1920 (64.32291666666667%)\n",
            "\n"
          ]
        },
        {
          "output_type": "stream",
          "name": "stderr",
          "text": [
            "Epoch 5/20: 100%|██████████| 60/60 [00:20<00:00,  2.89batch/s, Acc=0.664, Loss=0.531]\n"
          ]
        },
        {
          "output_type": "stream",
          "name": "stdout",
          "text": [
            "\n",
            "------ Test época 5 -------\n",
            "\n",
            "Average loss: 0.01663041554080943, Accuracy: 1100/1920 (57.291666666666664%)\n",
            "\n"
          ]
        },
        {
          "output_type": "stream",
          "name": "stderr",
          "text": [
            "Epoch 6/20: 100%|██████████| 60/60 [00:20<00:00,  2.97batch/s, Acc=0.669, Loss=0.493]\n"
          ]
        },
        {
          "output_type": "stream",
          "name": "stdout",
          "text": [
            "\n",
            "------ Test época 6 -------\n",
            "\n",
            "Average loss: 0.017162094032391904, Accuracy: 1252/1920 (65.20833333333333%)\n",
            "\n"
          ]
        },
        {
          "output_type": "stream",
          "name": "stderr",
          "text": [
            "Epoch 7/20: 100%|██████████| 60/60 [00:19<00:00,  3.04batch/s, Acc=0.658, Loss=0.522]\n"
          ]
        },
        {
          "output_type": "stream",
          "name": "stdout",
          "text": [
            "\n",
            "------ Test época 7 -------\n",
            "\n",
            "Average loss: 0.01622356438698868, Accuracy: 1412/1920 (73.54166666666667%)\n",
            "\n"
          ]
        },
        {
          "output_type": "stream",
          "name": "stderr",
          "text": [
            "Epoch 8/20: 100%|██████████| 60/60 [00:19<00:00,  3.05batch/s, Acc=0.682, Loss=0.487]\n"
          ]
        },
        {
          "output_type": "stream",
          "name": "stdout",
          "text": [
            "\n",
            "------ Test época 8 -------\n",
            "\n",
            "Average loss: 0.017292807965228956, Accuracy: 1428/1920 (74.375%)\n",
            "\n"
          ]
        },
        {
          "output_type": "stream",
          "name": "stderr",
          "text": [
            "Epoch 9/20: 100%|██████████| 60/60 [00:19<00:00,  3.01batch/s, Acc=0.687, Loss=0.493]\n"
          ]
        },
        {
          "output_type": "stream",
          "name": "stdout",
          "text": [
            "\n",
            "------ Test época 9 -------\n",
            "\n",
            "Average loss: 0.016454962190861504, Accuracy: 1207/1920 (62.864583333333336%)\n",
            "\n"
          ]
        },
        {
          "output_type": "stream",
          "name": "stderr",
          "text": [
            "Epoch 10/20: 100%|██████████| 60/60 [00:20<00:00,  2.95batch/s, Acc=0.706, Loss=0.467]\n"
          ]
        },
        {
          "output_type": "stream",
          "name": "stdout",
          "text": [
            "\n",
            "------ Test época 10 -------\n",
            "\n",
            "Average loss: 0.015546106360852718, Accuracy: 1379/1920 (71.82291666666667%)\n",
            "\n"
          ]
        },
        {
          "output_type": "stream",
          "name": "stderr",
          "text": [
            "Epoch 11/20: 100%|██████████| 60/60 [00:19<00:00,  3.02batch/s, Acc=0.706, Loss=0.48]\n"
          ]
        },
        {
          "output_type": "stream",
          "name": "stdout",
          "text": [
            "\n",
            "------ Test época 11 -------\n",
            "\n",
            "Average loss: 0.017224735859781504, Accuracy: 1346/1920 (70.10416666666667%)\n",
            "\n"
          ]
        },
        {
          "output_type": "stream",
          "name": "stderr",
          "text": [
            "Epoch 12/20: 100%|██████████| 60/60 [00:19<00:00,  3.05batch/s, Acc=0.661, Loss=0.509]\n"
          ]
        },
        {
          "output_type": "stream",
          "name": "stdout",
          "text": [
            "\n",
            "------ Test época 12 -------\n",
            "\n",
            "Average loss: 0.015918510826304556, Accuracy: 1369/1920 (71.30208333333333%)\n",
            "\n"
          ]
        },
        {
          "output_type": "stream",
          "name": "stderr",
          "text": [
            "Epoch 13/20: 100%|██████████| 60/60 [00:19<00:00,  3.05batch/s, Acc=0.69, Loss=0.489]\n"
          ]
        },
        {
          "output_type": "stream",
          "name": "stdout",
          "text": [
            "\n",
            "------ Test época 13 -------\n",
            "\n",
            "Average loss: 0.017062589169169466, Accuracy: 1329/1920 (69.21875%)\n",
            "\n"
          ]
        },
        {
          "output_type": "stream",
          "name": "stderr",
          "text": [
            "Epoch 14/20: 100%|██████████| 60/60 [00:20<00:00,  2.91batch/s, Acc=0.703, Loss=0.488]\n"
          ]
        },
        {
          "output_type": "stream",
          "name": "stdout",
          "text": [
            "\n",
            "------ Test época 14 -------\n",
            "\n",
            "Average loss: 0.01836332306265831, Accuracy: 1348/1920 (70.20833333333333%)\n",
            "\n"
          ]
        },
        {
          "output_type": "stream",
          "name": "stderr",
          "text": [
            "Epoch 15/20: 100%|██████████| 60/60 [00:20<00:00,  2.99batch/s, Acc=0.687, Loss=0.488]\n"
          ]
        },
        {
          "output_type": "stream",
          "name": "stdout",
          "text": [
            "\n",
            "------ Test época 15 -------\n",
            "\n",
            "Average loss: 0.016147918067872524, Accuracy: 1334/1920 (69.47916666666667%)\n",
            "\n"
          ]
        },
        {
          "output_type": "stream",
          "name": "stderr",
          "text": [
            "Epoch 16/20: 100%|██████████| 60/60 [00:19<00:00,  3.04batch/s, Acc=0.662, Loss=0.491]\n"
          ]
        },
        {
          "output_type": "stream",
          "name": "stdout",
          "text": [
            "\n",
            "------ Test época 16 -------\n",
            "\n",
            "Average loss: 0.01722114469545583, Accuracy: 1428/1920 (74.375%)\n",
            "\n"
          ]
        },
        {
          "output_type": "stream",
          "name": "stderr",
          "text": [
            "Epoch 17/20: 100%|██████████| 60/60 [00:19<00:00,  3.05batch/s, Acc=0.706, Loss=0.47]\n"
          ]
        },
        {
          "output_type": "stream",
          "name": "stdout",
          "text": [
            "\n",
            "------ Test época 17 -------\n",
            "\n",
            "Average loss: 0.016592488158494234, Accuracy: 1318/1920 (68.64583333333333%)\n",
            "\n"
          ]
        },
        {
          "output_type": "stream",
          "name": "stderr",
          "text": [
            "Epoch 18/20: 100%|██████████| 60/60 [00:19<00:00,  3.07batch/s, Acc=0.742, Loss=0.448]\n"
          ]
        },
        {
          "output_type": "stream",
          "name": "stdout",
          "text": [
            "\n",
            "------ Test época 18 -------\n",
            "\n",
            "Average loss: 0.015392971504479647, Accuracy: 1357/1920 (70.67708333333333%)\n",
            "\n"
          ]
        },
        {
          "output_type": "stream",
          "name": "stderr",
          "text": [
            "Epoch 19/20: 100%|██████████| 60/60 [00:20<00:00,  2.94batch/s, Acc=0.725, Loss=0.465]\n"
          ]
        },
        {
          "output_type": "stream",
          "name": "stdout",
          "text": [
            "\n",
            "------ Test época 19 -------\n",
            "\n",
            "Average loss: 0.014722156229739387, Accuracy: 1402/1920 (73.02083333333333%)\n",
            "\n",
            "320 340\n"
          ]
        },
        {
          "output_type": "stream",
          "name": "stderr",
          "text": [
            "Epoch 0/20: 100%|██████████| 60/60 [00:20<00:00,  2.95batch/s, Acc=0.573, Loss=0.668]\n"
          ]
        },
        {
          "output_type": "stream",
          "name": "stdout",
          "text": [
            "\n",
            "------ Test época 0 -------\n",
            "\n",
            "Average loss: 0.020818438101559877, Accuracy: 997/1920 (51.927083333333336%)\n",
            "\n"
          ]
        },
        {
          "output_type": "stream",
          "name": "stderr",
          "text": [
            "Epoch 1/20: 100%|██████████| 60/60 [00:19<00:00,  3.00batch/s, Acc=0.644, Loss=0.572]\n"
          ]
        },
        {
          "output_type": "stream",
          "name": "stdout",
          "text": [
            "\n",
            "------ Test época 1 -------\n",
            "\n",
            "Average loss: 0.021190763808165987, Accuracy: 1189/1920 (61.927083333333336%)\n",
            "\n"
          ]
        },
        {
          "output_type": "stream",
          "name": "stderr",
          "text": [
            "Epoch 2/20: 100%|██████████| 60/60 [00:19<00:00,  3.01batch/s, Acc=0.625, Loss=0.539]\n"
          ]
        },
        {
          "output_type": "stream",
          "name": "stdout",
          "text": [
            "\n",
            "------ Test época 2 -------\n",
            "\n",
            "Average loss: 0.01768698946883281, Accuracy: 1205/1920 (62.760416666666664%)\n",
            "\n"
          ]
        },
        {
          "output_type": "stream",
          "name": "stderr",
          "text": [
            "Epoch 3/20: 100%|██████████| 60/60 [00:19<00:00,  3.04batch/s, Acc=0.649, Loss=0.534]\n"
          ]
        },
        {
          "output_type": "stream",
          "name": "stdout",
          "text": [
            "\n",
            "------ Test época 3 -------\n",
            "\n",
            "Average loss: 0.018365385585154097, Accuracy: 1379/1920 (71.82291666666667%)\n",
            "\n"
          ]
        },
        {
          "output_type": "stream",
          "name": "stderr",
          "text": [
            "Epoch 4/20: 100%|██████████| 60/60 [00:20<00:00,  2.99batch/s, Acc=0.645, Loss=0.513]\n"
          ]
        },
        {
          "output_type": "stream",
          "name": "stdout",
          "text": [
            "\n",
            "------ Test época 4 -------\n",
            "\n",
            "Average loss: 0.015875005504737298, Accuracy: 1142/1920 (59.479166666666664%)\n",
            "\n"
          ]
        },
        {
          "output_type": "stream",
          "name": "stderr",
          "text": [
            "Epoch 5/20: 100%|██████████| 60/60 [00:20<00:00,  2.94batch/s, Acc=0.678, Loss=0.528]\n"
          ]
        },
        {
          "output_type": "stream",
          "name": "stdout",
          "text": [
            "\n",
            "------ Test época 5 -------\n",
            "\n",
            "Average loss: 0.01711975128079454, Accuracy: 1088/1920 (56.666666666666664%)\n",
            "\n"
          ]
        },
        {
          "output_type": "stream",
          "name": "stderr",
          "text": [
            "Epoch 6/20: 100%|██████████| 60/60 [00:20<00:00,  2.95batch/s, Acc=0.666, Loss=0.532]\n"
          ]
        },
        {
          "output_type": "stream",
          "name": "stdout",
          "text": [
            "\n",
            "------ Test época 6 -------\n",
            "\n",
            "Average loss: 0.01727861411248644, Accuracy: 1424/1920 (74.16666666666667%)\n",
            "\n"
          ]
        },
        {
          "output_type": "stream",
          "name": "stderr",
          "text": [
            "Epoch 7/20: 100%|██████████| 60/60 [00:19<00:00,  3.03batch/s, Acc=0.671, Loss=0.505]\n"
          ]
        },
        {
          "output_type": "stream",
          "name": "stdout",
          "text": [
            "\n",
            "------ Test época 7 -------\n",
            "\n",
            "Average loss: 0.0173273419495672, Accuracy: 1316/1920 (68.54166666666667%)\n",
            "\n"
          ]
        },
        {
          "output_type": "stream",
          "name": "stderr",
          "text": [
            "Epoch 8/20: 100%|██████████| 60/60 [00:20<00:00,  2.90batch/s, Acc=0.672, Loss=0.496]\n"
          ]
        },
        {
          "output_type": "stream",
          "name": "stdout",
          "text": [
            "\n",
            "------ Test época 8 -------\n",
            "\n",
            "Average loss: 0.01625972877567013, Accuracy: 1379/1920 (71.82291666666667%)\n",
            "\n"
          ]
        },
        {
          "output_type": "stream",
          "name": "stderr",
          "text": [
            "Epoch 9/20: 100%|██████████| 60/60 [00:20<00:00,  2.94batch/s, Acc=0.703, Loss=0.489]\n"
          ]
        },
        {
          "output_type": "stream",
          "name": "stdout",
          "text": [
            "\n",
            "------ Test época 9 -------\n",
            "\n",
            "Average loss: 0.016448117264856895, Accuracy: 1268/1920 (66.04166666666667%)\n",
            "\n"
          ]
        },
        {
          "output_type": "stream",
          "name": "stderr",
          "text": [
            "Epoch 10/20: 100%|██████████| 60/60 [00:20<00:00,  2.97batch/s, Acc=0.688, Loss=0.492]\n"
          ]
        },
        {
          "output_type": "stream",
          "name": "stdout",
          "text": [
            "\n",
            "------ Test época 10 -------\n",
            "\n",
            "Average loss: 0.018909250230838854, Accuracy: 1398/1920 (72.8125%)\n",
            "\n"
          ]
        },
        {
          "output_type": "stream",
          "name": "stderr",
          "text": [
            "Epoch 11/20: 100%|██████████| 60/60 [00:19<00:00,  3.00batch/s, Acc=0.705, Loss=0.472]\n"
          ]
        },
        {
          "output_type": "stream",
          "name": "stdout",
          "text": [
            "\n",
            "------ Test época 11 -------\n",
            "\n",
            "Average loss: 0.02036540098488331, Accuracy: 1381/1920 (71.92708333333333%)\n",
            "\n"
          ]
        },
        {
          "output_type": "stream",
          "name": "stderr",
          "text": [
            "Epoch 12/20: 100%|██████████| 60/60 [00:19<00:00,  3.02batch/s, Acc=0.693, Loss=0.503]\n"
          ]
        },
        {
          "output_type": "stream",
          "name": "stdout",
          "text": [
            "\n",
            "------ Test época 12 -------\n",
            "\n",
            "Average loss: 0.0170757458700488, Accuracy: 1413/1920 (73.59375%)\n",
            "\n"
          ]
        },
        {
          "output_type": "stream",
          "name": "stderr",
          "text": [
            "Epoch 13/20: 100%|██████████| 60/60 [00:20<00:00,  2.99batch/s, Acc=0.669, Loss=0.498]\n"
          ]
        },
        {
          "output_type": "stream",
          "name": "stdout",
          "text": [
            "\n",
            "------ Test época 13 -------\n",
            "\n",
            "Average loss: 0.016997823243339857, Accuracy: 1410/1920 (73.4375%)\n",
            "\n"
          ]
        },
        {
          "output_type": "stream",
          "name": "stderr",
          "text": [
            "Epoch 14/20: 100%|██████████| 60/60 [00:20<00:00,  2.97batch/s, Acc=0.683, Loss=0.509]\n"
          ]
        },
        {
          "output_type": "stream",
          "name": "stdout",
          "text": [
            "\n",
            "------ Test época 14 -------\n",
            "\n",
            "Average loss: 0.01615023009168605, Accuracy: 1322/1920 (68.85416666666667%)\n",
            "\n"
          ]
        },
        {
          "output_type": "stream",
          "name": "stderr",
          "text": [
            "Epoch 15/20: 100%|██████████| 60/60 [00:20<00:00,  2.95batch/s, Acc=0.685, Loss=0.477]\n"
          ]
        },
        {
          "output_type": "stream",
          "name": "stdout",
          "text": [
            "\n",
            "------ Test época 15 -------\n",
            "\n",
            "Average loss: 0.01555898777830104, Accuracy: 1410/1920 (73.4375%)\n",
            "\n"
          ]
        },
        {
          "output_type": "stream",
          "name": "stderr",
          "text": [
            "Epoch 16/20: 100%|██████████| 60/60 [00:19<00:00,  3.02batch/s, Acc=0.698, Loss=0.484]\n"
          ]
        },
        {
          "output_type": "stream",
          "name": "stdout",
          "text": [
            "\n",
            "------ Test época 16 -------\n",
            "\n",
            "Average loss: 0.015457089152187109, Accuracy: 1489/1920 (77.55208333333333%)\n",
            "\n"
          ]
        },
        {
          "output_type": "stream",
          "name": "stderr",
          "text": [
            "Epoch 17/20: 100%|██████████| 60/60 [00:20<00:00,  2.98batch/s, Acc=0.735, Loss=0.453]\n"
          ]
        },
        {
          "output_type": "stream",
          "name": "stdout",
          "text": [
            "\n",
            "------ Test época 17 -------\n",
            "\n",
            "Average loss: 0.015897662177061043, Accuracy: 1388/1920 (72.29166666666667%)\n",
            "\n"
          ]
        },
        {
          "output_type": "stream",
          "name": "stderr",
          "text": [
            "Epoch 18/20: 100%|██████████| 60/60 [00:20<00:00,  2.93batch/s, Acc=0.707, Loss=0.487]\n"
          ]
        },
        {
          "output_type": "stream",
          "name": "stdout",
          "text": [
            "\n",
            "------ Test época 18 -------\n",
            "\n",
            "Average loss: 0.015960091647381585, Accuracy: 1301/1920 (67.76041666666667%)\n",
            "\n"
          ]
        },
        {
          "output_type": "stream",
          "name": "stderr",
          "text": [
            "Epoch 19/20: 100%|██████████| 60/60 [00:20<00:00,  2.99batch/s, Acc=0.704, Loss=0.475]\n"
          ]
        },
        {
          "output_type": "stream",
          "name": "stdout",
          "text": [
            "\n",
            "------ Test época 19 -------\n",
            "\n",
            "Average loss: 0.015916354131574433, Accuracy: 1370/1920 (71.35416666666667%)\n",
            "\n",
            "340 360\n"
          ]
        },
        {
          "output_type": "stream",
          "name": "stderr",
          "text": [
            "Epoch 0/20: 100%|██████████| 60/60 [00:19<00:00,  3.03batch/s, Acc=0.583, Loss=0.643]\n"
          ]
        },
        {
          "output_type": "stream",
          "name": "stdout",
          "text": [
            "\n",
            "------ Test época 0 -------\n",
            "\n",
            "Average loss: 0.027553725304702917, Accuracy: 1229/1920 (64.01041666666667%)\n",
            "\n"
          ]
        },
        {
          "output_type": "stream",
          "name": "stderr",
          "text": [
            "Epoch 1/20: 100%|██████████| 60/60 [00:20<00:00,  2.92batch/s, Acc=0.639, Loss=0.549]\n"
          ]
        },
        {
          "output_type": "stream",
          "name": "stdout",
          "text": [
            "\n",
            "------ Test época 1 -------\n",
            "\n",
            "Average loss: 0.01704315487295389, Accuracy: 1417/1920 (73.80208333333333%)\n",
            "\n"
          ]
        },
        {
          "output_type": "stream",
          "name": "stderr",
          "text": [
            "Epoch 2/20: 100%|██████████| 60/60 [00:20<00:00,  2.95batch/s, Acc=0.655, Loss=0.532]\n"
          ]
        },
        {
          "output_type": "stream",
          "name": "stdout",
          "text": [
            "\n",
            "------ Test época 2 -------\n",
            "\n",
            "Average loss: 0.01647023637779057, Accuracy: 1061/1920 (55.260416666666664%)\n",
            "\n"
          ]
        },
        {
          "output_type": "stream",
          "name": "stderr",
          "text": [
            "Epoch 3/20: 100%|██████████| 60/60 [00:20<00:00,  2.94batch/s, Acc=0.673, Loss=0.501]\n"
          ]
        },
        {
          "output_type": "stream",
          "name": "stdout",
          "text": [
            "\n",
            "------ Test época 3 -------\n",
            "\n",
            "Average loss: 0.016480890723566215, Accuracy: 1230/1920 (64.0625%)\n",
            "\n"
          ]
        },
        {
          "output_type": "stream",
          "name": "stderr",
          "text": [
            "Epoch 4/20: 100%|██████████| 60/60 [00:19<00:00,  3.01batch/s, Acc=0.678, Loss=0.517]\n"
          ]
        },
        {
          "output_type": "stream",
          "name": "stdout",
          "text": [
            "\n",
            "------ Test época 4 -------\n",
            "\n",
            "Average loss: 0.017418763212238748, Accuracy: 1337/1920 (69.63541666666667%)\n",
            "\n"
          ]
        },
        {
          "output_type": "stream",
          "name": "stderr",
          "text": [
            "Epoch 5/20: 100%|██████████| 60/60 [00:20<00:00,  2.90batch/s, Acc=0.696, Loss=0.5]\n"
          ]
        },
        {
          "output_type": "stream",
          "name": "stdout",
          "text": [
            "\n",
            "------ Test época 5 -------\n",
            "\n",
            "Average loss: 0.015718331777801117, Accuracy: 1333/1920 (69.42708333333333%)\n",
            "\n"
          ]
        },
        {
          "output_type": "stream",
          "name": "stderr",
          "text": [
            "Epoch 6/20: 100%|██████████| 60/60 [00:20<00:00,  2.95batch/s, Acc=0.689, Loss=0.5]\n"
          ]
        },
        {
          "output_type": "stream",
          "name": "stdout",
          "text": [
            "\n",
            "------ Test época 6 -------\n",
            "\n",
            "Average loss: 0.01714174769197901, Accuracy: 1210/1920 (63.020833333333336%)\n",
            "\n"
          ]
        },
        {
          "output_type": "stream",
          "name": "stderr",
          "text": [
            "Epoch 7/20: 100%|██████████| 60/60 [00:20<00:00,  2.94batch/s, Acc=0.671, Loss=0.496]\n"
          ]
        },
        {
          "output_type": "stream",
          "name": "stdout",
          "text": [
            "\n",
            "------ Test época 7 -------\n",
            "\n",
            "Average loss: 0.01708963670146962, Accuracy: 1412/1920 (73.54166666666667%)\n",
            "\n"
          ]
        },
        {
          "output_type": "stream",
          "name": "stderr",
          "text": [
            "Epoch 8/20: 100%|██████████| 60/60 [00:19<00:00,  3.03batch/s, Acc=0.707, Loss=0.485]\n"
          ]
        },
        {
          "output_type": "stream",
          "name": "stdout",
          "text": [
            "\n",
            "------ Test época 8 -------\n",
            "\n",
            "Average loss: 0.016079898395886024, Accuracy: 1203/1920 (62.65625%)\n",
            "\n"
          ]
        },
        {
          "output_type": "stream",
          "name": "stderr",
          "text": [
            "Epoch 9/20: 100%|██████████| 60/60 [00:20<00:00,  2.95batch/s, Acc=0.693, Loss=0.5]\n"
          ]
        },
        {
          "output_type": "stream",
          "name": "stdout",
          "text": [
            "\n",
            "------ Test época 9 -------\n",
            "\n",
            "Average loss: 0.01620290937523047, Accuracy: 1351/1920 (70.36458333333333%)\n",
            "\n"
          ]
        },
        {
          "output_type": "stream",
          "name": "stderr",
          "text": [
            "Epoch 10/20: 100%|██████████| 60/60 [00:20<00:00,  2.97batch/s, Acc=0.698, Loss=0.494]\n"
          ]
        },
        {
          "output_type": "stream",
          "name": "stdout",
          "text": [
            "\n",
            "------ Test época 10 -------\n",
            "\n",
            "Average loss: 0.015602053934708237, Accuracy: 1275/1920 (66.40625%)\n",
            "\n"
          ]
        },
        {
          "output_type": "stream",
          "name": "stderr",
          "text": [
            "Epoch 11/20: 100%|██████████| 60/60 [00:20<00:00,  2.96batch/s, Acc=0.714, Loss=0.473]\n"
          ]
        },
        {
          "output_type": "stream",
          "name": "stdout",
          "text": [
            "\n",
            "------ Test época 11 -------\n",
            "\n",
            "Average loss: 0.017321630745815733, Accuracy: 1413/1920 (73.59375%)\n",
            "\n"
          ]
        },
        {
          "output_type": "stream",
          "name": "stderr",
          "text": [
            "Epoch 12/20: 100%|██████████| 60/60 [00:19<00:00,  3.00batch/s, Acc=0.691, Loss=0.491]\n"
          ]
        },
        {
          "output_type": "stream",
          "name": "stdout",
          "text": [
            "\n",
            "------ Test época 12 -------\n",
            "\n",
            "Average loss: 0.015518691902980209, Accuracy: 1425/1920 (74.21875%)\n",
            "\n"
          ]
        },
        {
          "output_type": "stream",
          "name": "stderr",
          "text": [
            "Epoch 13/20: 100%|██████████| 60/60 [00:19<00:00,  3.01batch/s, Acc=0.693, Loss=0.499]\n"
          ]
        },
        {
          "output_type": "stream",
          "name": "stdout",
          "text": [
            "\n",
            "------ Test época 13 -------\n",
            "\n",
            "Average loss: 0.016239521916334827, Accuracy: 1166/1920 (60.729166666666664%)\n",
            "\n"
          ]
        },
        {
          "output_type": "stream",
          "name": "stderr",
          "text": [
            "Epoch 14/20: 100%|██████████| 60/60 [00:20<00:00,  2.99batch/s, Acc=0.694, Loss=0.483]\n"
          ]
        },
        {
          "output_type": "stream",
          "name": "stdout",
          "text": [
            "\n",
            "------ Test época 14 -------\n",
            "\n",
            "Average loss: 0.015156975590313475, Accuracy: 1469/1920 (76.51041666666667%)\n",
            "\n"
          ]
        },
        {
          "output_type": "stream",
          "name": "stderr",
          "text": [
            "Epoch 15/20:   7%|▋         | 4/60 [00:01<00:18,  3.11batch/s, Acc=0.727, Loss=0.511]"
          ]
        }
      ]
    },
    {
      "cell_type": "code",
      "source": [
        "# hparams = {\"lr\": 0.0005 , \"batch_size\": 32, \"n_epochs\": 2, \"input_size\": 224}\n",
        "# analyzer = LearningAnalyzer(TRAIN_IMAGES_DIR_BASE, hparams)"
      ],
      "metadata": {
        "id": "KHE5WogfI8Xz"
      },
      "execution_count": null,
      "outputs": []
    },
    {
      "cell_type": "code",
      "source": [
        "# _transform = Compose([Resize((hparams[\"input_size\"], hparams[\"input_size\"])),\n",
        "#                     ToTensor(), Normalize((.5, .5, .5), (.5, .5, .5))])\n",
        "# _train = Characters(TRAIN_IMAGES_DIR_BASE, transform=_transform)\n",
        "# _test = Characters(EVALUATION_IMAGES_DIR_BASE, transform=_transform)\n",
        "# train_loader = DataLoader(_train, batch_size=hparams['batch_size'], shuffle=True)\n",
        "# test_loader = DataLoader(_test, batch_size=hparams['batch_size'], shuffle=True)"
      ],
      "metadata": {
        "id": "na__cRPDI5fM"
      },
      "execution_count": null,
      "outputs": []
    },
    {
      "cell_type": "code",
      "source": [
        "# analyzer.generate_report(train_loader, test_loader)"
      ],
      "metadata": {
        "id": "AdoAbbYNI-PO"
      },
      "execution_count": null,
      "outputs": []
    },
    {
      "cell_type": "code",
      "source": [
        "# dataset_distribution = dict(Counter(train.imgs_to_class))\n",
        "# dataset_distribution_for_plotly = {\"Clase (índice)\": list(dataset_distribution.keys()), \"Número de instancias (imágenes)\": list(dataset_distribution.values())}\n",
        "# fig = px.bar(dataset_distribution_for_plotly, x=\"Clase (índice)\", y=\"Número de instancias (imágenes)\")\n",
        "# fig.show()"
      ],
      "metadata": {
        "id": "9z_r17iyc4fS"
      },
      "execution_count": null,
      "outputs": []
    },
    {
      "cell_type": "code",
      "source": [
        "def plot_accuracy_loss(ovrl_history):\n",
        "    train_loss = [loss/100 for loss in ovrl_history['train']['loss']]\n",
        "    train_acc = ovrl_history['train']['acc']\n",
        "    test_loss = ovrl_history['test']['loss']\n",
        "    test_acc = [acc/100 for acc in ovrl_history['test']['acc']]\n",
        "\n",
        "    epochs = range(len(train_loss))\n",
        "\n",
        "    plt.figure(figsize=(12, 5))\n",
        "    plt.subplot(1, 2, 1)\n",
        "    plt.plot(epochs, train_loss, 'b', label='Training loss')\n",
        "    plt.plot(epochs, test_loss, 'r', label='Test loss')\n",
        "    plt.title('Training and Test Loss')\n",
        "    plt.xlabel('Epochs')\n",
        "    plt.ylabel('Loss')\n",
        "    plt.legend()\n",
        "\n",
        "    plt.subplot(1, 2, 2)\n",
        "    plt.plot(epochs, train_acc, 'b', label='Training accuracy')\n",
        "    plt.plot(epochs, test_acc, 'r', label='Test accuracy')\n",
        "    plt.title('Training and Test Accuracy')\n",
        "    plt.xlabel('Epochs')\n",
        "    plt.ylabel('Accuracy')\n",
        "    plt.legend()\n",
        "\n",
        "    plt.tight_layout()\n",
        "    plt.show()\n",
        "\n",
        "plot_accuracy_loss(load_logs(\"not_pretrained_0_0\"))\n",
        "\n",
        "plot_accuracy_loss(load_logs(\"not_pretrained_0_20\"))"
      ],
      "metadata": {
        "id": "IPBKsjRhsQNk",
        "colab": {
          "base_uri": "https://localhost:8080/",
          "height": 997
        },
        "outputId": "cb3d3d4a-bb3b-40bb-d06c-78b39b08a7dd"
      },
      "execution_count": 49,
      "outputs": [
        {
          "output_type": "display_data",
          "data": {
            "text/plain": [
              "<Figure size 1200x500 with 2 Axes>"
            ],
            "image/png": "[encoded data removed]"
          },
          "metadata": {}
        },
        {
          "output_type": "display_data",
          "data": {
            "text/plain": [
              "<Figure size 1200x500 with 2 Axes>"
            ],
            "image/png": "[encoded data removed]"
          },
          "metadata": {}
        }
      ]
    },
    {
      "cell_type": "code",
      "source": [
        "def bar_plot_influence(influence, title):\n",
        "    # Extract x labels and y values from the data\n",
        "    x_labels = [item[0] for item in influence]\n",
        "    y_values = [item[1] for item in influence]\n",
        "\n",
        "    # Create a bar plot\n",
        "    plt.bar(range(len(x_labels)), y_values)\n",
        "\n",
        "    # Set x-axis labels\n",
        "    plt.xticks(range(len(x_labels)))\n",
        "\n",
        "    # Set y-axis label\n",
        "    plt.ylabel('Influence')\n",
        "\n",
        "    # Set plot title\n",
        "    plt.title(title)\n",
        "\n",
        "    # Display the plot\n",
        "    plt.show()\n",
        "\n",
        "def get_influence(drive_path, train_or_test=\"train\"):\n",
        "    paths_list = [path.split('.')[0] for path in listdir(drive_path)]\n",
        "    all_logs_paths = sorted(paths_list, key=lambda x: int(x.split('_')[3]))\n",
        "    acc_original = load_logs(all_logs_paths[0])[train_or_test][\"acc\"][-1]\n",
        "    influence = []\n",
        "    for log_path in all_logs_paths:\n",
        "        log_loaded = load_logs(log_path)\n",
        "        # get last element of acc of log\n",
        "        acc = log_loaded[train_or_test][\"acc\"][-1]\n",
        "        influence.append([(log_path.split(\"_\")[2],log_path.split(\"_\")[3]), acc_original-acc])\n",
        "    return influence\n",
        "\n",
        "bar_plot_influence(get_influence(drive_path), \"Train Influence\")\n",
        "\n",
        "bar_plot_influence(get_influence(drive_path, \"test\"), \"Test Influence\")"
      ],
      "metadata": {
        "colab": {
          "base_uri": "https://localhost:8080/",
          "height": 887
        },
        "id": "4EGWtVBRmsxG",
        "outputId": "5884e832-0651-4ada-a3a8-403ac99e6cc5"
      },
      "execution_count": 42,
      "outputs": [
        {
          "output_type": "display_data",
          "data": {
            "text/plain": [
              "<Figure size 640x480 with 1 Axes>"
            ],
            "image/png": "[encoded data removed]"
          },
          "metadata": {}
        },
        {
          "output_type": "display_data",
          "data": {
            "text/plain": [
              "<Figure size 640x480 with 1 Axes>"
            ],
            "image/png": "[encoded data removed]"
          },
          "metadata": {}
        }
      ]
    },
    {
      "cell_type": "code",
      "source": [
        "\n",
        "def plot_images(analyzer, model, test_loader, num_pairs=5):\n",
        "    model.eval()\n",
        "    test_loss = 0\n",
        "    correct = 0\n",
        "\n",
        "    criterion = nn.BCELoss()\n",
        "\n",
        "    with torch.no_grad():\n",
        "        for i, (imgs1, imgs2, targets) in enumerate(test_loader):\n",
        "            imgs1, imgs2, targets = imgs1.to(device), imgs2.to(device), targets.to(device)\n",
        "            outputs = model(imgs1, imgs2).squeeze()\n",
        "            pred = torch.where(outputs > analyzer.threshold, 1, 0)\n",
        "            # Convert tensors to numpy arrays and reshape\n",
        "            for j in range(num_pairs):\n",
        "                img1 = np.transpose(imgs1[j].cpu().numpy(), (1, 2, 0))\n",
        "                img2 = np.transpose(imgs2[j].cpu().numpy(), (1, 2, 0))\n",
        "                label = f\"Expected: {int(targets[j])}\"\n",
        "\n",
        "                plt.subplot(2, num_pairs, j + 1)\n",
        "                plt.imshow(img1.astype(np.uint8))\n",
        "                plt.axis('off')\n",
        "                plt.title(f'Pair [{j}]')\n",
        "\n",
        "                plt.subplot(2, num_pairs, num_pairs + j + 1)\n",
        "                plt.imshow(img2.astype(np.uint8))\n",
        "                plt.axis('off')\n",
        "                plt.title(f'({label})')\n",
        "                plt.text(0, -0.15, f'Prediction: {pred[j]}', transform=plt.gca().transAxes, fontsize=12, ha='left', va='top')\n",
        "            break\n",
        "    plt.tight_layout()\n",
        "    plt.show()\n",
        "\n",
        "plot_images(analyzer, analyzer.model_pretrained, test_loader)"
      ],
      "metadata": {
        "id": "WBBtWro_xksi"
      },
      "execution_count": null,
      "outputs": []
    }
  ],
  "metadata": {
    "colab": {
      "provenance": []
    },
    "kernelspec": {
      "display_name": "Python 3",
      "name": "python3"
    },
    "language_info": {
      "name": "python"
    }
  },
  "nbformat": 4,
  "nbformat_minor": 0
}